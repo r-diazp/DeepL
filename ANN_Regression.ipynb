{
  "nbformat": 4,
  "nbformat_minor": 0,
  "metadata": {
    "colab": {
      "name": "ANN-Regression.ipynb",
      "provenance": [],
      "collapsed_sections": [],
      "authorship_tag": "ABX9TyMTEM5cCAgrT+rlHxxD9mPC",
      "include_colab_link": true
    },
    "kernelspec": {
      "name": "python3",
      "display_name": "Python 3"
    },
    "language_info": {
      "name": "python"
    },
    "accelerator": "GPU"
  },
  "cells": [
    {
      "cell_type": "markdown",
      "metadata": {
        "id": "view-in-github",
        "colab_type": "text"
      },
      "source": [
        "<a href=\"https://colab.research.google.com/github/r-diazp/deepL/blob/master/ANN_Regression.ipynb\" target=\"_parent\"><img src=\"https://colab.research.google.com/assets/colab-badge.svg\" alt=\"Open In Colab\"/></a>"
      ]
    },
    {
      "cell_type": "markdown",
      "metadata": {
        "id": "d_IfFCwVWOTO"
      },
      "source": [
        "#![pytorch icon.png](https://encrypted-tbn0.gstatic.com/images?q=tbn:ANd9GcQWyV5brHNCcNRsfWARFMR78N0Wg5V2hksMVYQeOpYnBn4zKOX2PPWky9wqxVoXuvnUi_s&usqp=CAU)\n"
      ]
    },
    {
      "cell_type": "markdown",
      "metadata": {
        "id": "kVIBW6cbYERR"
      },
      "source": [
        "#Libreries"
      ]
    },
    {
      "cell_type": "code",
      "metadata": {
        "id": "RXroWUM8oZFY",
        "colab": {
          "base_uri": "https://localhost:8080/"
        },
        "outputId": "a66c42d5-6398-4fde-b2af-f5441414ac52"
      },
      "source": [
        "import torch\n",
        "import torch.nn as nn\n",
        "\n",
        "import numpy as np\n",
        "import pandas as pd\n",
        "import matplotlib.pyplot as plt\n",
        "%matplotlib inline\n",
        "\n",
        "import time\n",
        "from google.colab import drive\n",
        "drive.mount(\"/content/drive\")"
      ],
      "execution_count": 1,
      "outputs": [
        {
          "output_type": "stream",
          "text": [
            "Mounted at /content/drive\n"
          ],
          "name": "stdout"
        }
      ]
    },
    {
      "cell_type": "markdown",
      "metadata": {
        "id": "WCV2f3TtpDgv"
      },
      "source": [
        "<a href='https://en.wikipedia.org/wiki/Haversine_formula'>haversine formula</a> calcula la distancia entre dos cordenadas de GPS<br>\n",
        "\n",
        "Ecuacion de la distancia:\n",
        "\n",
        "${\\displaystyle d=2r\\arcsin \\left({\\sqrt {\\sin ^{2}\\left({\\frac {\\varphi _{2}-\\varphi _{1}}{2}}\\right)+\\cos(\\varphi _{1})\\:\\cos(\\varphi _{2})\\:\\sin ^{2}\\left({\\frac {\\lambda _{2}-\\lambda _{1}}{2}}\\right)}}\\right)}$"
      ]
    },
    {
      "cell_type": "code",
      "metadata": {
        "id": "3he03LqbpE-P"
      },
      "source": [
        "class Utils():\n",
        "  def __init__(self, data_frame):\n",
        "    self.data_frame = data_frame    \n",
        "\n",
        "  #Metodo para calcular Haversine formula\n",
        "  def haversine_distance(self, lat_1, long_1, lat_2, long_2):\n",
        "    radius  = 6371  #promedio del radio de la tierra (https://es.wikipedia.org/wiki/Tierra)       \n",
        "    phi_1, phi_2 = np.radians(self.data_frame[lat_1]), np.radians(self.data_frame[lat_2])\n",
        "    delta_phi = np.radians(self.data_frame[lat_2] - self.data_frame[lat_1])\n",
        "    delta_lambda = np.radians(self.data_frame[long_2] - self.data_frame[long_1])\n",
        "    \n",
        "    a = np.sin(delta_phi/2)**2 + np.cos(phi_1) * np.cos(phi_2) * np.sin(delta_lambda/2)**2\n",
        "    c = 2 * np.arctan2(np.sqrt(a), np.sqrt(1-a))\n",
        "    distance = (radius * c) #Distancia en kilometros\n",
        "    return distance\n",
        "\n"
      ],
      "execution_count": 2,
      "outputs": []
    },
    {
      "cell_type": "code",
      "metadata": {
        "id": "jAJ7Fcucono5",
        "colab": {
          "base_uri": "https://localhost:8080/"
        },
        "outputId": "7bb4652b-20ed-4bce-c0e8-78c5007ed193"
      },
      "source": [
        "#Revisar si la GPU esta habilitda y modelo \n",
        "print(f'- GPU available: {torch.cuda.is_available()} \\\n",
        "      \\n- GPU: {torch.cuda.get_device_name(0)}')"
      ],
      "execution_count": 3,
      "outputs": [
        {
          "output_type": "stream",
          "text": [
            "- GPU available: True       \n",
            "- GPU: Tesla T4\n"
          ],
          "name": "stdout"
        }
      ]
    },
    {
      "cell_type": "markdown",
      "metadata": {
        "id": "l9OKzPpiYXX-"
      },
      "source": [
        "#Carga y preparacion de Tensores"
      ]
    },
    {
      "cell_type": "code",
      "metadata": {
        "id": "G99Vb66ao2CN",
        "colab": {
          "base_uri": "https://localhost:8080/",
          "height": 206
        },
        "outputId": "a9820ccd-d10f-478e-a379-8364d053e8b8"
      },
      "source": [
        "#Cargar DataSet\n",
        "path = '/content/drive/MyDrive/Dataset/'\n",
        "df = pd.read_csv(path + 'ds-ann-regression.csv')\n",
        "df.head()"
      ],
      "execution_count": 8,
      "outputs": [
        {
          "output_type": "execute_result",
          "data": {
            "text/html": [
              "<div>\n",
              "<style scoped>\n",
              "    .dataframe tbody tr th:only-of-type {\n",
              "        vertical-align: middle;\n",
              "    }\n",
              "\n",
              "    .dataframe tbody tr th {\n",
              "        vertical-align: top;\n",
              "    }\n",
              "\n",
              "    .dataframe thead th {\n",
              "        text-align: right;\n",
              "    }\n",
              "</style>\n",
              "<table border=\"1\" class=\"dataframe\">\n",
              "  <thead>\n",
              "    <tr style=\"text-align: right;\">\n",
              "      <th></th>\n",
              "      <th>pickup_datetime</th>\n",
              "      <th>fare_amount</th>\n",
              "      <th>fare_class</th>\n",
              "      <th>pickup_longitude</th>\n",
              "      <th>pickup_latitude</th>\n",
              "      <th>dropoff_longitude</th>\n",
              "      <th>dropoff_latitude</th>\n",
              "      <th>passenger_count</th>\n",
              "    </tr>\n",
              "  </thead>\n",
              "  <tbody>\n",
              "    <tr>\n",
              "      <th>0</th>\n",
              "      <td>2010-04-19 08:17:56 UTC</td>\n",
              "      <td>6.5</td>\n",
              "      <td>0</td>\n",
              "      <td>-73.992365</td>\n",
              "      <td>40.730521</td>\n",
              "      <td>-73.975499</td>\n",
              "      <td>40.744746</td>\n",
              "      <td>1</td>\n",
              "    </tr>\n",
              "    <tr>\n",
              "      <th>1</th>\n",
              "      <td>2010-04-17 15:43:53 UTC</td>\n",
              "      <td>6.9</td>\n",
              "      <td>0</td>\n",
              "      <td>-73.990078</td>\n",
              "      <td>40.740558</td>\n",
              "      <td>-73.974232</td>\n",
              "      <td>40.744114</td>\n",
              "      <td>1</td>\n",
              "    </tr>\n",
              "    <tr>\n",
              "      <th>2</th>\n",
              "      <td>2010-04-17 11:23:26 UTC</td>\n",
              "      <td>10.1</td>\n",
              "      <td>1</td>\n",
              "      <td>-73.994149</td>\n",
              "      <td>40.751118</td>\n",
              "      <td>-73.960064</td>\n",
              "      <td>40.766235</td>\n",
              "      <td>2</td>\n",
              "    </tr>\n",
              "    <tr>\n",
              "      <th>3</th>\n",
              "      <td>2010-04-11 21:25:03 UTC</td>\n",
              "      <td>8.9</td>\n",
              "      <td>0</td>\n",
              "      <td>-73.990485</td>\n",
              "      <td>40.756422</td>\n",
              "      <td>-73.971205</td>\n",
              "      <td>40.748192</td>\n",
              "      <td>1</td>\n",
              "    </tr>\n",
              "    <tr>\n",
              "      <th>4</th>\n",
              "      <td>2010-04-17 02:19:01 UTC</td>\n",
              "      <td>19.7</td>\n",
              "      <td>1</td>\n",
              "      <td>-73.990976</td>\n",
              "      <td>40.734202</td>\n",
              "      <td>-73.905956</td>\n",
              "      <td>40.743115</td>\n",
              "      <td>1</td>\n",
              "    </tr>\n",
              "  </tbody>\n",
              "</table>\n",
              "</div>"
            ],
            "text/plain": [
              "           pickup_datetime  fare_amount  ...  dropoff_latitude  passenger_count\n",
              "0  2010-04-19 08:17:56 UTC          6.5  ...         40.744746                1\n",
              "1  2010-04-17 15:43:53 UTC          6.9  ...         40.744114                1\n",
              "2  2010-04-17 11:23:26 UTC         10.1  ...         40.766235                2\n",
              "3  2010-04-11 21:25:03 UTC          8.9  ...         40.748192                1\n",
              "4  2010-04-17 02:19:01 UTC         19.7  ...         40.743115                1\n",
              "\n",
              "[5 rows x 8 columns]"
            ]
          },
          "metadata": {
            "tags": []
          },
          "execution_count": 8
        }
      ]
    },
    {
      "cell_type": "code",
      "metadata": {
        "id": "KIFp3Ty7rrqG",
        "colab": {
          "base_uri": "https://localhost:8080/",
          "height": 206
        },
        "outputId": "38d050b7-66cd-44bf-d043-85294896d98c"
      },
      "source": [
        "#Agregar columna distance al DataFrame\n",
        "utils = Utils(df) #Instancia objeto utils de la clase Utils \n",
        "parameters = ['pickup_latitude', 'pickup_longitude','dropoff_latitude', 'dropoff_longitude']\n",
        "df['distance'] = utils.haversine_distance(*parameters) #Se llama al metodo haversine_distance del objetvo utils\n",
        "df.head()"
      ],
      "execution_count": 9,
      "outputs": [
        {
          "output_type": "execute_result",
          "data": {
            "text/html": [
              "<div>\n",
              "<style scoped>\n",
              "    .dataframe tbody tr th:only-of-type {\n",
              "        vertical-align: middle;\n",
              "    }\n",
              "\n",
              "    .dataframe tbody tr th {\n",
              "        vertical-align: top;\n",
              "    }\n",
              "\n",
              "    .dataframe thead th {\n",
              "        text-align: right;\n",
              "    }\n",
              "</style>\n",
              "<table border=\"1\" class=\"dataframe\">\n",
              "  <thead>\n",
              "    <tr style=\"text-align: right;\">\n",
              "      <th></th>\n",
              "      <th>pickup_datetime</th>\n",
              "      <th>fare_amount</th>\n",
              "      <th>fare_class</th>\n",
              "      <th>pickup_longitude</th>\n",
              "      <th>pickup_latitude</th>\n",
              "      <th>dropoff_longitude</th>\n",
              "      <th>dropoff_latitude</th>\n",
              "      <th>passenger_count</th>\n",
              "      <th>distance</th>\n",
              "    </tr>\n",
              "  </thead>\n",
              "  <tbody>\n",
              "    <tr>\n",
              "      <th>0</th>\n",
              "      <td>2010-04-19 08:17:56 UTC</td>\n",
              "      <td>6.5</td>\n",
              "      <td>0</td>\n",
              "      <td>-73.992365</td>\n",
              "      <td>40.730521</td>\n",
              "      <td>-73.975499</td>\n",
              "      <td>40.744746</td>\n",
              "      <td>1</td>\n",
              "      <td>2.126312</td>\n",
              "    </tr>\n",
              "    <tr>\n",
              "      <th>1</th>\n",
              "      <td>2010-04-17 15:43:53 UTC</td>\n",
              "      <td>6.9</td>\n",
              "      <td>0</td>\n",
              "      <td>-73.990078</td>\n",
              "      <td>40.740558</td>\n",
              "      <td>-73.974232</td>\n",
              "      <td>40.744114</td>\n",
              "      <td>1</td>\n",
              "      <td>1.392307</td>\n",
              "    </tr>\n",
              "    <tr>\n",
              "      <th>2</th>\n",
              "      <td>2010-04-17 11:23:26 UTC</td>\n",
              "      <td>10.1</td>\n",
              "      <td>1</td>\n",
              "      <td>-73.994149</td>\n",
              "      <td>40.751118</td>\n",
              "      <td>-73.960064</td>\n",
              "      <td>40.766235</td>\n",
              "      <td>2</td>\n",
              "      <td>3.326763</td>\n",
              "    </tr>\n",
              "    <tr>\n",
              "      <th>3</th>\n",
              "      <td>2010-04-11 21:25:03 UTC</td>\n",
              "      <td>8.9</td>\n",
              "      <td>0</td>\n",
              "      <td>-73.990485</td>\n",
              "      <td>40.756422</td>\n",
              "      <td>-73.971205</td>\n",
              "      <td>40.748192</td>\n",
              "      <td>1</td>\n",
              "      <td>1.864129</td>\n",
              "    </tr>\n",
              "    <tr>\n",
              "      <th>4</th>\n",
              "      <td>2010-04-17 02:19:01 UTC</td>\n",
              "      <td>19.7</td>\n",
              "      <td>1</td>\n",
              "      <td>-73.990976</td>\n",
              "      <td>40.734202</td>\n",
              "      <td>-73.905956</td>\n",
              "      <td>40.743115</td>\n",
              "      <td>1</td>\n",
              "      <td>7.231321</td>\n",
              "    </tr>\n",
              "  </tbody>\n",
              "</table>\n",
              "</div>"
            ],
            "text/plain": [
              "           pickup_datetime  fare_amount  ...  passenger_count  distance\n",
              "0  2010-04-19 08:17:56 UTC          6.5  ...                1  2.126312\n",
              "1  2010-04-17 15:43:53 UTC          6.9  ...                1  1.392307\n",
              "2  2010-04-17 11:23:26 UTC         10.1  ...                2  3.326763\n",
              "3  2010-04-11 21:25:03 UTC          8.9  ...                1  1.864129\n",
              "4  2010-04-17 02:19:01 UTC         19.7  ...                1  7.231321\n",
              "\n",
              "[5 rows x 9 columns]"
            ]
          },
          "metadata": {
            "tags": []
          },
          "execution_count": 9
        }
      ]
    },
    {
      "cell_type": "code",
      "metadata": {
        "id": "vsMRMJjrwFLl"
      },
      "source": [
        "#TARGET RECURRENTE \n",
        "#Ajustar fecha hora a la actual y separarlo por hora, y semana \n",
        "df['date_time'] = pd.to_datetime(df['pickup_datetime'].str[:19]) - pd.Timedelta(hours=0) #Ajustar la hora \n",
        "df['hour'] = df['date_time'].dt.hour\n",
        "df['am_pm'] = np.where(df['hour']<12,'am','pm')\n",
        "df['weekday'] = df['date_time'].dt.strftime(\"%a\")\n",
        "#df['Weekday2'] = df['date_time'].dt.dayofweek #Colocarlo con formato numerico\n",
        "\n",
        "#Feactures\n",
        "#Separar las variables categoricas y continuas \n",
        "categorical_cols = ['fare_class', 'hour', 'am_pm', 'weekday']\n",
        "continuous_cols = ['pickup_longitude', 'pickup_latitude','dropoff_longitude', 'dropoff_latitude', \n",
        "                   'passenger_count', 'distance']\n",
        "#Target\n",
        "target = ['fare_amount']  #Esta columna contiene la variable a predecir "
      ],
      "execution_count": 10,
      "outputs": []
    },
    {
      "cell_type": "code",
      "metadata": {
        "id": "gBF6iTKe0NTL",
        "colab": {
          "base_uri": "https://localhost:8080/"
        },
        "outputId": "c7b22cea-2707-4cc9-ad3d-2929847a3051"
      },
      "source": [
        "#CATEGORIZAR \n",
        "for categorical in categorical_cols:\n",
        "    df[categorical] = df[categorical].astype('category')\n",
        "df.dtypes\n",
        "\n",
        "#Matriz con las categorias \n",
        "hour = df['hour'].cat.codes.values\n",
        "am_pm = df['am_pm'].cat.codes.values\n",
        "weekday = df['weekday'].cat.codes.values\n",
        "fare_class = df['fare_class'].cat.codes.values\n",
        "cat_feacture = [fare_class, hour, am_pm, weekday]\n",
        "\n",
        "#Convertir las variables cateogricas en tensores en la GPU\n",
        "#categories_tensor = np.stack([hour, am_pm, weekday], axis=1) # stack unimos las matrices\n",
        "categories_tensor = np.stack(cat_feacture, axis=1) # stack unimos las matrices\n",
        "categories_tensor = torch.tensor(categories_tensor, dtype=torch.int64).cuda() #Convert categorical variables to a tensor\n",
        "categories_tensor[:]\n",
        "\n",
        "#Convertir las variables continuas en tensores en la GPU\n",
        "continuous_tensor = np.stack([df[col].values for col in continuous_cols], axis=1) # stack unimos las matrices\n",
        "continuous_tensor = torch.tensor(continuous_tensor, dtype=torch.float).cuda()\n",
        "\n",
        "#Convertir la variable a predecir en tensor en la GPU\n",
        "target_tensor = torch.tensor(df[target].values, dtype=torch.float).reshape(-1,1).cuda() #.reshape(-1,1) es opcional depende de la version de pytorch\n",
        "\n",
        "#Imprimir resultados\n",
        "print(f\"CATEGORIAS: \\\n",
        "      \\n- hour categories: {df['hour'].cat.categories} \\\n",
        "      \\n- am_pm categories: {df['am_pm'].cat.categories} \\\n",
        "      \\n- weekday categories: {df['weekday'].cat.categories}\" )\n",
        "\n",
        "print(f\"\\nTENSORS: \\n- categories_tensor: {categories_tensor[:]} | cpu/gpu = {categories_tensor.device} \\\n",
        "      \\n- continuous_tensor: {continuous_tensor[:]} | cpu/gpu = {continuous_tensor.device} \\\n",
        "      \\n- target_tensor: {target_tensor[:]} | cpu/gpu = {target_tensor.device}\") \n"
      ],
      "execution_count": 11,
      "outputs": [
        {
          "output_type": "stream",
          "text": [
            "CATEGORIAS:       \n",
            "- hour categories: Int64Index([ 0,  1,  2,  3,  4,  5,  6,  7,  8,  9, 10, 11, 12, 13, 14, 15, 16,\n",
            "            17, 18, 19, 20, 21, 22, 23],\n",
            "           dtype='int64')       \n",
            "- am_pm categories: Index(['am', 'pm'], dtype='object')       \n",
            "- weekday categories: Index(['Fri', 'Mon', 'Sat', 'Sun', 'Thu', 'Tue', 'Wed'], dtype='object')\n",
            "\n",
            "TENSORS: \n",
            "- categories_tensor: tensor([[ 0,  8,  0,  1],\n",
            "        [ 0, 15,  1,  2],\n",
            "        [ 1, 11,  0,  2],\n",
            "        ...,\n",
            "        [ 1, 18,  1,  3],\n",
            "        [ 0,  8,  0,  5],\n",
            "        [ 0, 16,  1,  2]], device='cuda:0') | cpu/gpu = cuda:0       \n",
            "- continuous_tensor: tensor([[-73.9924,  40.7305, -73.9755,  40.7447,   1.0000,   2.1263],\n",
            "        [-73.9901,  40.7406, -73.9742,  40.7441,   1.0000,   1.3923],\n",
            "        [-73.9941,  40.7511, -73.9601,  40.7662,   2.0000,   3.3268],\n",
            "        ...,\n",
            "        [-73.9886,  40.7498, -74.0115,  40.7078,   3.0000,   5.0525],\n",
            "        [-74.0044,  40.7245, -73.9927,  40.7308,   1.0000,   1.2089],\n",
            "        [-73.9554,  40.7719, -73.9676,  40.7630,   3.0000,   1.4274]],\n",
            "       device='cuda:0') | cpu/gpu = cuda:0       \n",
            "- target_tensor: tensor([[ 6.5000],\n",
            "        [ 6.9000],\n",
            "        [10.1000],\n",
            "        ...,\n",
            "        [12.5000],\n",
            "        [ 4.9000],\n",
            "        [ 5.3000]], device='cuda:0') | cpu/gpu = cuda:0\n"
          ],
          "name": "stdout"
        }
      ]
    },
    {
      "cell_type": "code",
      "metadata": {
        "id": "xY_zIWrTESRU"
      },
      "source": [
        "#SPLIT DE LOS TENSORES \n",
        "batch_size = 60000\n",
        "test_size = int(batch_size * .2 )\n",
        "\n",
        "#Tensores de entranamiento \n",
        "categories_train = categories_tensor[:batch_size - test_size]\n",
        "continuous_train = continuous_tensor[:batch_size - test_size]\n",
        "target_train = target_tensor[:batch_size - test_size]\n",
        "\n",
        "#Tensores de prueba \n",
        "categories_test = categories_tensor[batch_size - test_size:batch_size]\n",
        "continuous_test = continuous_tensor[batch_size - test_size:batch_size]\n",
        "target_test = target_tensor[batch_size - test_size:batch_size]"
      ],
      "execution_count": 12,
      "outputs": []
    },
    {
      "cell_type": "code",
      "metadata": {
        "id": "_1SdHJP56SvQ",
        "colab": {
          "base_uri": "https://localhost:8080/"
        },
        "outputId": "998ddab1-69de-4d8d-bbde-42fd1863c33e"
      },
      "source": [
        "#Embebido de las variables categoricas (modelo multidimensional de entrada a la ANN)\n",
        "categorical_size = [len(df[col].cat.categories) for col in categorical_cols] #Total de categorias por columna en cat_cols\n",
        "embedding_size = [(size, min(50, (size+1)//2) ) for size in categorical_size]\n",
        "print(f'- categorical_size: {categorical_size} \\\n",
        "      \\n- embedding_size: {embedding_size} ')"
      ],
      "execution_count": 13,
      "outputs": [
        {
          "output_type": "stream",
          "text": [
            "- categorical_size: [2, 24, 2, 7]       \n",
            "- embedding_size: [(2, 1), (24, 12), (2, 1), (7, 4)] \n"
          ],
          "name": "stdout"
        }
      ]
    },
    {
      "cell_type": "markdown",
      "metadata": {
        "id": "zBMZMJTCYzlG"
      },
      "source": [
        "# ANN Model"
      ]
    },
    {
      "cell_type": "code",
      "metadata": {
        "id": "hxtTgGv97NnY"
      },
      "source": [
        "#Arquitectura de la Red Neuronal \n",
        "class Model(nn.Module):\n",
        "  def __init__(self, emb_szs, n_cont, out_sz, layers, p=0.5): #constructor \n",
        "    super().__init__() #inicializa con los parametros de nn.Module\n",
        "    self.embeds = nn.ModuleList([nn.Embedding(ni, nf) for ni,nf in emb_szs])\n",
        "    self.emb_drop = nn.Dropout(p) #Porcentaje de neuronas desabilitadas para evitar Overfitting\n",
        "    self.bn_cont = nn.BatchNorm1d(n_cont) #https://pytorch.org/docs/stable/generated/torch.nn.BatchNorm1d.html \n",
        "    \n",
        "    layerlist = []\n",
        "    n_emb = sum((nf for ni,nf in emb_szs)) #n_emb = 12+1+4=17 || emb_szs = [(24, 12), (2, 1), (7, 4)]\n",
        "    n_in = n_emb + n_cont #n_cont = Columnas continuas: 6  || n_in = Numero columnas de entrada = 17+6\n",
        "    \n",
        "    #Arquitectura de la red neuronal\n",
        "    for layer in layers:  \n",
        "        layerlist.append(nn.Linear(n_in, layer))  #n_in=23 \n",
        "        layerlist.append(nn.ReLU(inplace=True))\n",
        "        layerlist.append(nn.BatchNorm1d(layer))\n",
        "        layerlist.append(nn.Dropout(p))\n",
        "        n_in = layer #n_in toma el valor del ultimo valor de la lista para conectar la capa oculta posterior \n",
        "    layerlist.append(nn.Linear(layers[-1], out_sz)) #Ultima capa oculta conectada a la Capa de salida             \n",
        "    self.layers = nn.Sequential(*layerlist) # * = argumentos || https://realpython.com/python-kwargs-and-args/ \n",
        "      \n",
        "\n",
        "  #funcion para la propagacion atras (Back propagation )\n",
        "  def forward(self, x_cat, x_cont):\n",
        "    embeddings = []\n",
        "    for i,e in enumerate(self.embeds):  #propagacion para las variables categoricas \n",
        "        embeddings.append(e(x_cat[:,i]))\n",
        "    x = torch.cat(embeddings, 1)\n",
        "    x = self.emb_drop(x)\n",
        "    \n",
        "    x_cont = self.bn_cont(x_cont) #propagacion para las variables continuas \n",
        "    x = torch.cat([x, x_cont], 1)\n",
        "    x = self.layers(x)\n",
        "    return x\n",
        "\n",
        "\n",
        "  #Funcion (metodo) para entrenar la red neuronal artificial \n",
        "  def train_model(self, x_cat, x_cont, y_train, criterion, optimizer, epochs=100, figsize=(10,5) ):\n",
        "    start_time = time.time()\n",
        "    epochs = epochs\n",
        "    losses = [] #resultados de la funcion de perdida \n",
        "\n",
        "    for epoch in range(epochs):\n",
        "        epoch+=1\n",
        "        y_pred = self.forward(x_cat, x_cont)  #Se llama al metodo forward que habilita el Back Propagation\n",
        "        loss = torch.sqrt(criterion(y_pred, y_train) ) #Se calcula la funcion de perdida por cada epoca de entrenamiento\n",
        "        losses.append(loss) #Se almacenan los resultados de la funcion de perdida en el array losses\n",
        "        \n",
        "        if epoch%25 == 1:  #Mostrar avanaces cada 25 epocas \n",
        "            print(f'epoch: {epoch:3} loss: {loss.item():10.8f}')\n",
        "\n",
        "        optimizer.zero_grad() #Algoritmo para el entrenamiento (stochastic gradient descent) https://en.wikipedia.org/wiki/Stochastic_gradient_descent\n",
        "        loss.backward() #Se propaga la funcion de perdida para ejuste de los pesos de la red neuronal \n",
        "        optimizer.step()\n",
        "    \n",
        "    #Grafica de convergencia del entrenamiento\n",
        "    print(f'\\nepoch: {epoch:3}  loss: {loss.item():10.8f}') \n",
        "    print(f'Duration: {time.time() - start_time:.0f} seconds')\n",
        "    plt.figure(figsize=figsize) \n",
        "    plt.plot(range(epochs), losses)\n",
        "    plt.ylabel('RMSE Loss')\n",
        "    plt.xlabel('Epocas');\n",
        "    plt.grid(True)\n",
        "    \n",
        "    return losses, y_pred"
      ],
      "execution_count": 14,
      "outputs": []
    },
    {
      "cell_type": "code",
      "metadata": {
        "id": "FnHwoAQX8MwQ"
      },
      "source": [
        "#Instanciar modelo\n",
        "torch.manual_seed(33) #Opcional .. creamos una semilla para el proceso de entrenamiento de la red neuronal \n",
        "gpu_model = Model(embedding_size, continuous_tensor.shape[1], 1, [500,400,300], p=0.35).cuda() \n",
        "#[500,400,200] 3 capas ocultas con 500,400 y 200 neuronas respectivamente, se puede agregar o quitar mar extender el tamaño de la ANN \n",
        "\n",
        "\n",
        "#Definimos la funcion de perdida y el optimizador (stochastic gradient descent)\n",
        "criterion = nn.MSELoss()  #Funcion de perdida \n",
        "optimizer = torch.optim.Adam(gpu_model.parameters(), lr=0.01) #Stochastic gradient descent (https://en.wikipedia.org/wiki/Stochastic_gradient_descent)\n",
        "print(f'- Model Arquitecture: {gpu_model} \\n- Model is GPU(cuda): {next(gpu_model.parameters()).is_cuda}') #imprime arquitectura \n"
      ],
      "execution_count": null,
      "outputs": []
    },
    {
      "cell_type": "code",
      "metadata": {
        "id": "JkcyF7HnkAXG",
        "colab": {
          "base_uri": "https://localhost:8080/",
          "height": 594
        },
        "outputId": "f096feda-8fcc-48ec-a253-40e1f7831fd1"
      },
      "source": [
        "#Entrenar modelo \n",
        "epochs = 300\n",
        "model_parameters = [categories_train, continuous_train, target_train, criterion, optimizer, epochs, (16,5)] #parametros para el entrenamiento\n",
        "loss, y_pred =gpu_model.train_model(*model_parameters) #Inicia proceso de entramiento (* se usa para locar los datos del array como parametros)"
      ],
      "execution_count": 20,
      "outputs": [
        {
          "output_type": "stream",
          "text": [
            "epoch:   1 loss: 12.48758793\n",
            "epoch:  26 loss: 4.88480139\n",
            "epoch:  51 loss: 3.26920533\n",
            "epoch:  76 loss: 2.94952059\n",
            "epoch: 101 loss: 2.79040480\n",
            "epoch: 126 loss: 2.71351671\n",
            "epoch: 151 loss: 2.65368152\n",
            "epoch: 176 loss: 2.59873748\n",
            "epoch: 201 loss: 2.59956455\n",
            "epoch: 226 loss: 2.56538844\n",
            "epoch: 251 loss: 2.54628682\n",
            "epoch: 276 loss: 2.49485779\n",
            "\n",
            "epoch: 300  loss: 2.54813242\n",
            "Duration: 15 seconds\n"
          ],
          "name": "stdout"
        },
        {
          "output_type": "display_data",
          "data": {
            "image/png": "[encoded data removed]",
            "text/plain": [
              "<Figure size 1152x360 with 1 Axes>"
            ]
          },
          "metadata": {
            "tags": [],
            "needs_background": "light"
          }
        }
      ]
    },
    {
      "cell_type": "markdown",
      "metadata": {
        "id": "wnQJRijtZP0G"
      },
      "source": [
        "#Validar modelo"
      ]
    },
    {
      "cell_type": "code",
      "metadata": {
        "id": "1nfVlF_3ZUrG",
        "colab": {
          "base_uri": "https://localhost:8080/"
        },
        "outputId": "554e6814-7d62-4b08-f455-b837f6ab0fa2"
      },
      "source": [
        "#Evaluar modelo con los datos de TEST\n",
        "with torch.no_grad():\n",
        "    y_validation = gpu_model(categories_test, continuous_test)\n",
        "    loss = torch.sqrt(criterion(y_validation, target_test) )\n",
        "print(f'RMSE: {loss:.8f}\\n')\n",
        "df['fare_amount'].describe()"
      ],
      "execution_count": 21,
      "outputs": [
        {
          "output_type": "stream",
          "text": [
            "RMSE: 2.67493629\n",
            "\n"
          ],
          "name": "stdout"
        },
        {
          "output_type": "execute_result",
          "data": {
            "text/plain": [
              "count    120000.000000\n",
              "mean         10.040326\n",
              "std           7.500134\n",
              "min           2.500000\n",
              "25%           5.700000\n",
              "50%           7.700000\n",
              "75%          11.300000\n",
              "max          49.900000\n",
              "Name: fare_amount, dtype: float64"
            ]
          },
          "metadata": {
            "tags": []
          },
          "execution_count": 21
        }
      ]
    },
    {
      "cell_type": "code",
      "metadata": {
        "id": "9mth7JQSVDpy",
        "colab": {
          "base_uri": "https://localhost:8080/"
        },
        "outputId": "bdaf3cc0-0052-4773-9c06-fd46caa00e35"
      },
      "source": [
        "#Mostrar algunas predicciones de los datos de TEST \n",
        "rows_test = 50\n",
        "print(f'{\"REAL\":>12} {\"PREDICTED\":>8} {\"DIFF\":>8}')\n",
        "for i in range(rows_test):\n",
        "    diff = np.abs(y_validation[i].item() - target_test[i].item())\n",
        "    print(f'{i+1:2}. {y_validation[i].item():8.4f} {target_test[i].item():8.4f} {diff:8.4f}')"
      ],
      "execution_count": 22,
      "outputs": [
        {
          "output_type": "stream",
          "text": [
            "        REAL PREDICTED     DIFF\n",
            " 1.   3.8770   2.9000   0.9770\n",
            " 2.  22.2287   5.7000  16.5287\n",
            " 3.   7.1090   7.7000   0.5910\n",
            " 4.  15.4701  12.5000   2.9701\n",
            " 5.   5.1380   4.1000   1.0380\n",
            " 6.   4.7003   5.3000   0.5997\n",
            " 7.   3.8101   3.7000   0.1101\n",
            " 8.  18.3909  14.5000   3.8909\n",
            " 9.   4.9290   5.7000   0.7710\n",
            "10.  12.4604  10.1000   2.3604\n",
            "11.   4.8100   4.5000   0.3100\n",
            "12.   5.0234   6.1000   1.0766\n",
            "13.   7.0222   6.9000   0.1222\n",
            "14.  12.5424  14.1000   1.5576\n",
            "15.   5.9992   4.5000   1.4992\n",
            "16.  34.4415  34.1000   0.3415\n",
            "17.   5.2455  12.5000   7.2545\n",
            "18.   3.9660   4.1000   0.1340\n",
            "19.   8.4306   8.5000   0.0694\n",
            "20.   5.1372   5.3000   0.1628\n",
            "21.  13.9200  11.3000   2.6200\n",
            "22.  12.5187  10.5000   2.0187\n",
            "23.  15.7888  15.3000   0.4888\n",
            "24.  18.3439  14.9000   3.4439\n",
            "25.  44.2196  49.5700   5.3504\n",
            "26.   5.1095   5.3000   0.1905\n",
            "27.   5.0530   3.7000   1.3530\n",
            "28.   5.9686   6.5000   0.5314\n",
            "29.  14.4946  14.1000   0.3946\n",
            "30.   5.4083   4.9000   0.5083\n",
            "31.   4.2538   3.7000   0.5538\n",
            "32.  41.1530  38.6700   2.4830\n",
            "33.  14.3418  12.5000   1.8418\n",
            "34.  14.0885  16.5000   2.4115\n",
            "35.   5.1437   5.7000   0.5563\n",
            "36.   8.8803   8.9000   0.0197\n",
            "37.  19.8989  22.1000   2.2011\n",
            "38.   7.3446  12.1000   4.7554\n",
            "39.  12.0077  10.1000   1.9077\n",
            "40.   8.8021   3.3000   5.5021\n",
            "41.   7.4483   8.5000   1.0517\n",
            "42.   8.1819   8.1000   0.0819\n",
            "43.  11.7818  14.5000   2.7182\n",
            "44.   6.3461   4.9000   1.4461\n",
            "45.   8.6170   8.5000   0.1170\n",
            "46.  15.2427  12.1000   3.1427\n",
            "47.  19.7178  23.7000   3.9822\n",
            "48.   5.1428   3.7000   1.4428\n",
            "49.   6.9740   9.3000   2.3260\n",
            "50.   7.9420   8.1000   0.1580\n"
          ],
          "name": "stdout"
        }
      ]
    }
  ]
}
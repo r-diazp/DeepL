{
  "nbformat": 4,
  "nbformat_minor": 0,
  "metadata": {
    "colab": {
      "name": "x_ray.ipynb",
      "provenance": [],
      "collapsed_sections": [],
      "authorship_tag": "ABX9TyNHW21n/YwI5TVf4ZsUr7kI",
      "include_colab_link": true
    },
    "kernelspec": {
      "name": "python3",
      "display_name": "Python 3"
    },
    "language_info": {
      "name": "python"
    },
    "accelerator": "GPU"
  },
  "cells": [
    {
      "cell_type": "markdown",
      "metadata": {
        "id": "view-in-github",
        "colab_type": "text"
      },
      "source": [
        "<a href=\"https://colab.research.google.com/github/r-diazp/deepL/blob/master/x_ray.ipynb\" target=\"_parent\"><img src=\"https://colab.research.google.com/assets/colab-badge.svg\" alt=\"Open In Colab\"/></a>"
      ]
    },
    {
      "cell_type": "markdown",
      "metadata": {
        "id": "p7siz0py3J10"
      },
      "source": [
        "![texto alternativo](https://soyoungpark.github.io/assets/images/tensorflowtraffic/tf.png)"
      ]
    },
    {
      "cell_type": "code",
      "metadata": {
        "colab": {
          "base_uri": "https://localhost:8080/"
        },
        "id": "sCiiUXeRvLVA",
        "outputId": "97d1e6b0-9daf-46bb-c6e6-a871388714ee"
      },
      "source": [
        "import tensorflow as tf\n",
        "import numpy as np\n",
        "import pandas as pd\n",
        "from tensorflow.keras.preprocessing.image import ImageDataGenerator\n",
        "from sklearn.metrics import confusion_matrix\n",
        "import matplotlib.pyplot as plt\n",
        "import os\n",
        "\n",
        "#Habilitar TensroBoard \n",
        "import datetime\n",
        "%load_ext tensorboard\n",
        "!rm -rf ./logs/ \n",
        "log_dir = \"logs/fit/\" + datetime.datetime.now().strftime(\"%Y%m%d-%H%M%S\")\n",
        "tensorboard_callback = tf.keras.callbacks.TensorBoard(log_dir=log_dir, histogram_freq=1)\n",
        "\n",
        "from google.colab import drive\n",
        "drive.mount('/content/drive')"
      ],
      "execution_count": 1,
      "outputs": [
        {
          "output_type": "stream",
          "text": [
            "Mounted at /content/drive\n"
          ],
          "name": "stdout"
        }
      ]
    },
    {
      "cell_type": "markdown",
      "metadata": {
        "id": "r0dmIrOXu7eR"
      },
      "source": [
        "# Configuración y conexion con Kaggle"
      ]
    },
    {
      "cell_type": "code",
      "metadata": {
        "id": "teAyH_mBgilg"
      },
      "source": [
        "#Configurar API Kaggle en Google Colab (#! cp kaggle.json ~/.kaggle/)\n",
        "! pip install -q kaggle\n",
        "! mkdir ~/.kaggle\n",
        "! cp /content/drive/MyDrive/Kaggle_API/kaggle.json ~/.kaggle/\n",
        "! chmod 600 ~/.kaggle/kaggle.json"
      ],
      "execution_count": 2,
      "outputs": []
    },
    {
      "cell_type": "code",
      "metadata": {
        "id": "tAbYKrQiq1kV"
      },
      "source": [
        "#Dowload competition\n",
        "! kaggle competitions download <name-of-competition>\n",
        "\n",
        "#Dowload dataset\n",
        "! kaggle datasets download <name-of-dataset>"
      ],
      "execution_count": null,
      "outputs": []
    },
    {
      "cell_type": "code",
      "metadata": {
        "colab": {
          "base_uri": "https://localhost:8080/"
        },
        "id": "5VWrMpmRrQL1",
        "outputId": "59e8ef2c-e971-479a-9cc5-0d3b76716e4f"
      },
      "source": [
        "#Descargar dataset \n",
        "! kaggle datasets download tolgadincer/labeled-chest-xray-images"
      ],
      "execution_count": 3,
      "outputs": [
        {
          "output_type": "stream",
          "text": [
            "Downloading labeled-chest-xray-images.zip to /content\n",
            "100% 1.17G/1.17G [00:08<00:00, 176MB/s]\n",
            "100% 1.17G/1.17G [00:08<00:00, 153MB/s]\n"
          ],
          "name": "stdout"
        }
      ]
    },
    {
      "cell_type": "code",
      "metadata": {
        "id": "pY2ke6wRrvBd"
      },
      "source": [
        "#Descomprimir archivo \n",
        "file_dataset = 'labeled-chest-xray-images'\n",
        "! unzip {file_dataset}"
      ],
      "execution_count": null,
      "outputs": []
    },
    {
      "cell_type": "markdown",
      "metadata": {
        "id": "x-Oi30kmwRd0"
      },
      "source": [
        "# Cargar & normalizar tensores"
      ]
    },
    {
      "cell_type": "code",
      "metadata": {
        "colab": {
          "base_uri": "https://localhost:8080/"
        },
        "id": "jl3PruQXwSJF",
        "outputId": "b12b8a10-1a84-4a64-da3e-3f5d2bf12a03"
      },
      "source": [
        "#Directorios \n",
        "dataset_path_new = \"./chest_xray/\"\n",
        "train_dir = os.path.join(dataset_path_new, \"train\")\n",
        "validation_dir = os.path.join(dataset_path_new, \"test\")\n",
        "\n",
        "#Parametros de carga \n",
        "imagen_size = 150\n",
        "batch_size = 126\n",
        "color_mode = \"grayscale\"\n",
        "data_train = ImageDataGenerator(rescale=1/255.)\n",
        "data_test = ImageDataGenerator(rescale=1/255.)\n",
        "\n",
        "#CARGAR Y ESTANDARIZAR TAMAÑO DE LAS IMAGENES \n",
        "print(\"Imagenes de entrenamiento detectadas:\")\n",
        "image_train = data_train.flow_from_directory(\n",
        "    train_dir, \n",
        "    target_size=(imagen_size,imagen_size),\n",
        "    batch_size=batch_size, \n",
        "    color_mode=color_mode,\n",
        "    class_mode=\"categorical\")\n",
        "    \n",
        "print(\"\\nImagenes de prueba detectadas:\")\n",
        "image_test = data_test.flow_from_directory(\n",
        "    validation_dir,\n",
        "    target_size=(imagen_size,imagen_size), \n",
        "    batch_size=batch_size,\n",
        "    color_mode=color_mode,\n",
        "    class_mode=\"categorical\")\n",
        "\n",
        "print(\"\"\"\\n- Nombre imagenes de Entrenamiento: imagenes_train\n",
        "- Nombre imagenes de prueba: imagenes_test\"\"\") "
      ],
      "execution_count": 5,
      "outputs": [
        {
          "output_type": "stream",
          "text": [
            "Imagenes de entrenamiento detectadas:\n",
            "Found 5232 images belonging to 2 classes.\n",
            "\n",
            "Imagenes de prueba detectadas:\n",
            "Found 624 images belonging to 2 classes.\n",
            "\n",
            "- Nombre imagenes de Entrenamiento: imagenes_train\n",
            "- Nombre imagenes de prueba: imagenes_test\n"
          ],
          "name": "stdout"
        }
      ]
    },
    {
      "cell_type": "markdown",
      "metadata": {
        "id": "3JbtXlxCyH3-"
      },
      "source": [
        "# Arquitectura de la CNN"
      ]
    },
    {
      "cell_type": "code",
      "metadata": {
        "id": "DMb8oYwvyGga"
      },
      "source": [
        "#Arquitectura de la Red Neuronal Convolucional (Ajustar imagen a 150x150 pixeles)\n",
        "#Parametros\n",
        "activation_func = 'relu'\n",
        "loss = 'categorical_crossentropy'\n",
        "learning_rate = 0.0001\n",
        "\n",
        "modelo = tf.keras.models.Sequential([\n",
        "    # El tamaño de la imagen de entrada debe ser de 150x150 pixeles con 3 bytes color (input_shape)\n",
        "    # Primera capa de convolucion con 64 filtros de tamaño 3x3 y capa MaxPooling tamaño 2x2 (Función activación: Rectificador Lineal)\n",
        "    tf.keras.layers.Conv2D(64, (3,3), activation = activation_func, \n",
        "                           input_shape=(imagen_size, imagen_size, 1)), \n",
        "    tf.keras.layers.MaxPooling2D(2, 2),\n",
        "    \n",
        "    # Segunda capa de convolución  con 64 filtros de tamaño 3x3 y capa MaxPooling tamaño 2x2 \n",
        "    tf.keras.layers.Conv2D(64, (3,3), activation = activation_func),\n",
        "    tf.keras.layers.MaxPooling2D(2,2),\n",
        "    \n",
        "    # Tercera capa de convolución  con 128 filtros de tamaño 3x3 y capa MaxPooling tamaño 2x2\n",
        "    tf.keras.layers.Conv2D(128, (3,3), activation = activation_func),\n",
        "    tf.keras.layers.MaxPooling2D(2,2),\n",
        "    \n",
        "    # Cuarta capa de convolución  con 128 filtros de tamaño 3x3 y capa MaxPooling tamaño 2x2\n",
        "    tf.keras.layers.Conv2D(128, (3,3), activation = activation_func),\n",
        "    tf.keras.layers.MaxPooling2D(2,2),\n",
        "    \n",
        "    # Capa de aplando para la entrada a la red neuronal y Dropout para evitar overfitting \n",
        "    tf.keras.layers.Flatten(),\n",
        "    tf.keras.layers.Dropout(0.5),\n",
        "    \n",
        "    # 512 neuronas de capa oculta y funcion de salida softmax (Clasificará 3 tipos de imagenes)\n",
        "    tf.keras.layers.Dense(512, activation = activation_func),\n",
        "    tf.keras.layers.Dropout(0.5),\n",
        "    tf.keras.layers.Dense(512, activation = activation_func),\n",
        "    tf.keras.layers.Dense(2, activation='softmax')\n",
        "])\n",
        "\n",
        "#Documentación del RMSprop: https://keras.io/api/optimizers/rmsprop/\n",
        "modelo.compile(optimizer=tf.keras.optimizers.RMSprop(learning_rate = learning_rate),\n",
        "               loss = loss, metrics=['accuracy'])\n",
        "modelo.summary()"
      ],
      "execution_count": null,
      "outputs": []
    },
    {
      "cell_type": "code",
      "metadata": {
        "id": "59bsslf5aqkk"
      },
      "source": [
        "#Guardar el mejor modelo \n",
        "checkpoint_filepath = '/content/model/check'\n",
        "model_checkpoint = tf.keras.callbacks.ModelCheckpoint(\n",
        "    filepath = checkpoint_filepath,\n",
        "    save_weights_only = True,\n",
        "    monitor='val_accuracy',\n",
        "    mode='max',\n",
        "    save_best_only=True)\n",
        "early_stopping = tf.keras.callbacks.EarlyStopping(patience=5)"
      ],
      "execution_count": 19,
      "outputs": []
    },
    {
      "cell_type": "code",
      "metadata": {
        "colab": {
          "base_uri": "https://localhost:8080/"
        },
        "id": "5YALbnbyyuCA",
        "cellView": "code",
        "outputId": "be881fc8-d32c-4209-fd2a-919c35fcf35e"
      },
      "source": [
        "#@title Entrenar a la Red Neuronal\n",
        "epochs =  20#@param {type:\"number\"}\n",
        "\n",
        "!rm -rf ./logs/ #Limpiar datos TensorBoard \n",
        "modelo.fit(image_train,\n",
        "           validation_data = image_test, epochs = epochs,            \n",
        "           callbacks=[model_checkpoint,  \n",
        "                      tensorboard_callback])"
      ],
      "execution_count": 20,
      "outputs": [
        {
          "output_type": "stream",
          "text": [
            "Epoch 1/20\n",
            "42/42 [==============================] - 53s 1s/step - loss: 0.5643 - accuracy: 0.7380 - val_loss: 0.5696 - val_accuracy: 0.6282\n",
            "Epoch 2/20\n",
            "42/42 [==============================] - 50s 1s/step - loss: 0.4418 - accuracy: 0.7882 - val_loss: 0.4241 - val_accuracy: 0.7692\n",
            "Epoch 3/20\n",
            "42/42 [==============================] - 49s 1s/step - loss: 0.3142 - accuracy: 0.8656 - val_loss: 0.3157 - val_accuracy: 0.8750\n",
            "Epoch 4/20\n",
            "42/42 [==============================] - 51s 1s/step - loss: 0.2460 - accuracy: 0.8966 - val_loss: 0.2723 - val_accuracy: 0.8942\n",
            "Epoch 5/20\n",
            "42/42 [==============================] - 49s 1s/step - loss: 0.1915 - accuracy: 0.9234 - val_loss: 0.2726 - val_accuracy: 0.9038\n",
            "Epoch 6/20\n",
            "42/42 [==============================] - 50s 1s/step - loss: 0.1645 - accuracy: 0.9358 - val_loss: 0.3438 - val_accuracy: 0.8766\n",
            "Epoch 7/20\n",
            "42/42 [==============================] - 50s 1s/step - loss: 0.1488 - accuracy: 0.9436 - val_loss: 0.3191 - val_accuracy: 0.8894\n",
            "Epoch 8/20\n",
            "42/42 [==============================] - 50s 1s/step - loss: 0.1341 - accuracy: 0.9482 - val_loss: 0.3148 - val_accuracy: 0.8910\n",
            "Epoch 9/20\n",
            "42/42 [==============================] - 49s 1s/step - loss: 0.1224 - accuracy: 0.9528 - val_loss: 0.3528 - val_accuracy: 0.8846\n",
            "Epoch 10/20\n",
            "42/42 [==============================] - 51s 1s/step - loss: 0.1064 - accuracy: 0.9589 - val_loss: 0.5208 - val_accuracy: 0.8333\n",
            "Epoch 11/20\n",
            "42/42 [==============================] - 49s 1s/step - loss: 0.0997 - accuracy: 0.9599 - val_loss: 0.3894 - val_accuracy: 0.8862\n",
            "Epoch 12/20\n",
            "42/42 [==============================] - 49s 1s/step - loss: 0.1004 - accuracy: 0.9631 - val_loss: 0.4915 - val_accuracy: 0.8558\n",
            "Epoch 13/20\n",
            "42/42 [==============================] - 50s 1s/step - loss: 0.0949 - accuracy: 0.9639 - val_loss: 0.8312 - val_accuracy: 0.7965\n",
            "Epoch 14/20\n",
            "42/42 [==============================] - 50s 1s/step - loss: 0.0903 - accuracy: 0.9643 - val_loss: 0.7513 - val_accuracy: 0.7981\n",
            "Epoch 15/20\n",
            "42/42 [==============================] - 49s 1s/step - loss: 0.0849 - accuracy: 0.9687 - val_loss: 0.6473 - val_accuracy: 0.8381\n",
            "Epoch 16/20\n",
            "42/42 [==============================] - 50s 1s/step - loss: 0.0804 - accuracy: 0.9700 - val_loss: 0.4286 - val_accuracy: 0.8750\n",
            "Epoch 17/20\n",
            "42/42 [==============================] - 56s 1s/step - loss: 0.0747 - accuracy: 0.9723 - val_loss: 0.4198 - val_accuracy: 0.8862\n",
            "Epoch 18/20\n",
            "42/42 [==============================] - 49s 1s/step - loss: 0.0747 - accuracy: 0.9717 - val_loss: 0.5589 - val_accuracy: 0.8526\n",
            "Epoch 19/20\n",
            "42/42 [==============================] - 50s 1s/step - loss: 0.0690 - accuracy: 0.9755 - val_loss: 0.4613 - val_accuracy: 0.8750\n",
            "Epoch 20/20\n",
            "42/42 [==============================] - 50s 1s/step - loss: 0.0688 - accuracy: 0.9744 - val_loss: 0.5970 - val_accuracy: 0.8494\n"
          ],
          "name": "stdout"
        },
        {
          "output_type": "execute_result",
          "data": {
            "text/plain": [
              "<tensorflow.python.keras.callbacks.History at 0x7f1bfc089f90>"
            ]
          },
          "metadata": {
            "tags": []
          },
          "execution_count": 20
        }
      ]
    },
    {
      "cell_type": "code",
      "metadata": {
        "id": "sc9cNF2d2RYH"
      },
      "source": [
        "%tensorboard --logdir logs"
      ],
      "execution_count": null,
      "outputs": []
    },
    {
      "cell_type": "code",
      "metadata": {
        "colab": {
          "base_uri": "https://localhost:8080/"
        },
        "id": "lU9D0pqxejnj",
        "outputId": "e2b6f549-0645-4a19-92e9-094c15fa2fd7"
      },
      "source": [
        "#Cargamos modelo con mejor resultados \n",
        "modelo.load_weights(checkpoint_filepath)"
      ],
      "execution_count": 22,
      "outputs": [
        {
          "output_type": "execute_result",
          "data": {
            "text/plain": [
              "<tensorflow.python.training.tracking.util.CheckpointLoadStatus at 0x7f1bfc089990>"
            ]
          },
          "metadata": {
            "tags": []
          },
          "execution_count": 22
        }
      ]
    },
    {
      "cell_type": "code",
      "metadata": {
        "colab": {
          "base_uri": "https://localhost:8080/"
        },
        "id": "rqDPo5azyuo8",
        "outputId": "2538e05d-9edb-4833-ad07-f9e24984b813"
      },
      "source": [
        "#Validacion datos\n",
        "set_datos=image_test\n",
        "valid_loss, exactitud_test = modelo.evaluate(set_datos)\n",
        "print(\"\"\"{} imagenes analizadas \n",
        "El modelo clasifico {:,.0f} imagenes correctamente, {:,.2f}% de exactitud\"\"\".format(len(set_datos.filenames),\n",
        "                                                        len(set_datos.filenames)*exactitud_test,\n",
        "                                                        exactitud_test*100,) )"
      ],
      "execution_count": 23,
      "outputs": [
        {
          "output_type": "stream",
          "text": [
            "5/5 [==============================] - 5s 1s/step - loss: 0.2726 - accuracy: 0.9038\n",
            "624 imagenes analizadas \n",
            "El modelo clasifico 564 imagenes correctamente, 90.38% de exactitud\n"
          ],
          "name": "stdout"
        }
      ]
    },
    {
      "cell_type": "code",
      "metadata": {
        "colab": {
          "resources": {
            "http://localhost:8080/nbextensions/google.colab/files.js": {
              "data": "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",
              "ok": true,
              "headers": [
                [
                  "content-type",
                  "application/javascript"
                ]
              ],
              "status": 200,
              "status_text": ""
            }
          },
          "base_uri": "https://localhost:8080/",
          "height": 143
        },
        "cellView": "code",
        "id": "AqGlO6pD1QBR",
        "outputId": "12cd51f6-3c0e-419f-ba97-237132f2a7aa"
      },
      "source": [
        "#@title Procesar imagen\n",
        "# Identificar imagenes \n",
        "import numpy as np\n",
        "from google.colab import files\n",
        "from keras.preprocessing import image\n",
        "\n",
        "#Cargar y Predecir imagenes \n",
        "uploaded = files.upload()\n",
        "for fn in uploaded.keys():   \n",
        "  path = fn\n",
        "  img = image.load_img(path, target_size = (imagen_size,imagen_size),\n",
        "                       color_mode = color_mode)\n",
        "  x = image.img_to_array(img)\n",
        "  x = np.expand_dims(x, axis=0)\n",
        "  x= x/255\n",
        "  #imagen = np.vstack([x])\n",
        "  classes = modelo.predict(x,batch_size = imagen_size)\n",
        "print('Archivo cargado... \\nProcesando predicción:')\n",
        "print(f'- Probabilidad normal: {np.round(classes[:,0].flatten()*100, 2)}%' )\n",
        "print(f'- Probabilidad neumonia: {np.round(classes[:,1].flatten()*100, 2)}%' )"
      ],
      "execution_count": 34,
      "outputs": [
        {
          "output_type": "display_data",
          "data": {
            "text/html": [
              "\n",
              "     <input type=\"file\" id=\"files-94cf8804-b363-40a8-9535-c690efddedf4\" name=\"files[]\" multiple disabled\n",
              "        style=\"border:none\" />\n",
              "     <output id=\"result-94cf8804-b363-40a8-9535-c690efddedf4\">\n",
              "      Upload widget is only available when the cell has been executed in the\n",
              "      current browser session. Please rerun this cell to enable.\n",
              "      </output>\n",
              "      <script src=\"/nbextensions/google.colab/files.js\"></script> "
            ],
            "text/plain": [
              "<IPython.core.display.HTML object>"
            ]
          },
          "metadata": {
            "tags": []
          }
        },
        {
          "output_type": "stream",
          "text": [
            "Saving NORMAL-1012843-0001.jpeg to NORMAL-1012843-0001.jpeg\n",
            "Archivo cargado... \n",
            "Procesando predicción:\n",
            "- Probabilidad normal: [98.82]%\n",
            "- Probabilidad neumonia: [1.18]%\n"
          ],
          "name": "stdout"
        }
      ]
    }
  ]
}
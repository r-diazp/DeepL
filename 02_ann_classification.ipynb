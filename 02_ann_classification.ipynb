{
  "nbformat": 4,
  "nbformat_minor": 0,
  "metadata": {
    "colab": {
      "name": "02-ann-classification.ipynb",
      "provenance": [],
      "collapsed_sections": [],
      "authorship_tag": "ABX9TyN5xMgqfbZvCF23FuRB3pBI",
      "include_colab_link": true
    },
    "kernelspec": {
      "name": "python3",
      "display_name": "Python 3"
    },
    "language_info": {
      "name": "python"
    },
    "accelerator": "GPU"
  },
  "cells": [
    {
      "cell_type": "markdown",
      "metadata": {
        "id": "view-in-github",
        "colab_type": "text"
      },
      "source": [
        "<a href=\"https://colab.research.google.com/github/r-diazp/deepL/blob/master/02_ann_classification.ipynb\" target=\"_parent\"><img src=\"https://colab.research.google.com/assets/colab-badge.svg\" alt=\"Open In Colab\"/></a>"
      ]
    },
    {
      "cell_type": "markdown",
      "metadata": {
        "id": "DKhNfjBRea9x"
      },
      "source": [
        "#![pytorch icon.png](https://encrypted-tbn0.gstatic.com/images?q=tbn:ANd9GcQWyV5brHNCcNRsfWARFMR78N0Wg5V2hksMVYQeOpYnBn4zKOX2PPWky9wqxVoXuvnUi_s&usqp=CAU)\n"
      ]
    },
    {
      "cell_type": "markdown",
      "metadata": {
        "id": "mPZ3mBI1_2XM"
      },
      "source": [
        "# Librerias"
      ]
    },
    {
      "cell_type": "code",
      "metadata": {
        "id": "F3DzWLZA4M7m",
        "colab": {
          "base_uri": "https://localhost:8080/"
        },
        "outputId": "09004fbe-07d3-415b-812a-cff963e89671"
      },
      "source": [
        "import torch\n",
        "import torch.nn as nn\n",
        "\n",
        "import numpy as np\n",
        "import pandas as pd\n",
        "import matplotlib.pyplot as plt\n",
        "from sklearn.utils import shuffle\n",
        "%matplotlib inline\n",
        "\n",
        "import time\n",
        "from google.colab import drive\n",
        "drive.mount(\"/content/drive\")"
      ],
      "execution_count": 1,
      "outputs": [
        {
          "output_type": "stream",
          "text": [
            "Mounted at /content/drive\n"
          ],
          "name": "stdout"
        }
      ]
    },
    {
      "cell_type": "markdown",
      "metadata": {
        "id": "3PD_iZjYAKbK"
      },
      "source": [
        "# Cargar datos y limpieza"
      ]
    },
    {
      "cell_type": "code",
      "metadata": {
        "id": "Ol8CvQjp4rpj",
        "colab": {
          "base_uri": "https://localhost:8080/"
        },
        "outputId": "f8845b94-19b3-4fbe-d067-a5ab7741ad41"
      },
      "source": [
        "#Revisar si la GPU esta habilitda y modelo \n",
        "print(f'- GPU available: {torch.cuda.is_available()} \\\n",
        "      \\n- GPU: {torch.cuda.get_device_name(0)}')"
      ],
      "execution_count": 2,
      "outputs": [
        {
          "output_type": "stream",
          "text": [
            "- GPU available: True       \n",
            "- GPU: Tesla T4\n"
          ],
          "name": "stdout"
        }
      ]
    },
    {
      "cell_type": "code",
      "metadata": {
        "colab": {
          "base_uri": "https://localhost:8080/",
          "height": 223
        },
        "id": "2MPA-GP54sLZ",
        "outputId": "14bb5a9b-e95d-4ac0-86f9-7b6f6abada1b"
      },
      "source": [
        "path = '/content/drive/MyDrive/Dataset/'\n",
        "df = pd.read_csv(path + 'income.csv')\n",
        "print(len(df))\n",
        "df.head()"
      ],
      "execution_count": 17,
      "outputs": [
        {
          "output_type": "stream",
          "text": [
            "30000\n"
          ],
          "name": "stdout"
        },
        {
          "output_type": "execute_result",
          "data": {
            "text/html": [
              "<div>\n",
              "<style scoped>\n",
              "    .dataframe tbody tr th:only-of-type {\n",
              "        vertical-align: middle;\n",
              "    }\n",
              "\n",
              "    .dataframe tbody tr th {\n",
              "        vertical-align: top;\n",
              "    }\n",
              "\n",
              "    .dataframe thead th {\n",
              "        text-align: right;\n",
              "    }\n",
              "</style>\n",
              "<table border=\"1\" class=\"dataframe\">\n",
              "  <thead>\n",
              "    <tr style=\"text-align: right;\">\n",
              "      <th></th>\n",
              "      <th>age</th>\n",
              "      <th>sex</th>\n",
              "      <th>education</th>\n",
              "      <th>education-num</th>\n",
              "      <th>marital-status</th>\n",
              "      <th>workclass</th>\n",
              "      <th>occupation</th>\n",
              "      <th>hours-per-week</th>\n",
              "      <th>income</th>\n",
              "      <th>label</th>\n",
              "    </tr>\n",
              "  </thead>\n",
              "  <tbody>\n",
              "    <tr>\n",
              "      <th>0</th>\n",
              "      <td>27</td>\n",
              "      <td>Male</td>\n",
              "      <td>HS-grad</td>\n",
              "      <td>9</td>\n",
              "      <td>Never-married</td>\n",
              "      <td>Private</td>\n",
              "      <td>Craft-repair</td>\n",
              "      <td>40</td>\n",
              "      <td>&lt;=50K</td>\n",
              "      <td>0</td>\n",
              "    </tr>\n",
              "    <tr>\n",
              "      <th>1</th>\n",
              "      <td>47</td>\n",
              "      <td>Male</td>\n",
              "      <td>Masters</td>\n",
              "      <td>14</td>\n",
              "      <td>Married</td>\n",
              "      <td>Local-gov</td>\n",
              "      <td>Exec-managerial</td>\n",
              "      <td>50</td>\n",
              "      <td>&gt;50K</td>\n",
              "      <td>1</td>\n",
              "    </tr>\n",
              "    <tr>\n",
              "      <th>2</th>\n",
              "      <td>59</td>\n",
              "      <td>Male</td>\n",
              "      <td>HS-grad</td>\n",
              "      <td>9</td>\n",
              "      <td>Divorced</td>\n",
              "      <td>Self-emp</td>\n",
              "      <td>Prof-specialty</td>\n",
              "      <td>20</td>\n",
              "      <td>&lt;=50K</td>\n",
              "      <td>0</td>\n",
              "    </tr>\n",
              "    <tr>\n",
              "      <th>3</th>\n",
              "      <td>38</td>\n",
              "      <td>Female</td>\n",
              "      <td>Prof-school</td>\n",
              "      <td>15</td>\n",
              "      <td>Never-married</td>\n",
              "      <td>Federal-gov</td>\n",
              "      <td>Prof-specialty</td>\n",
              "      <td>57</td>\n",
              "      <td>&gt;50K</td>\n",
              "      <td>1</td>\n",
              "    </tr>\n",
              "    <tr>\n",
              "      <th>4</th>\n",
              "      <td>64</td>\n",
              "      <td>Female</td>\n",
              "      <td>11th</td>\n",
              "      <td>7</td>\n",
              "      <td>Widowed</td>\n",
              "      <td>Private</td>\n",
              "      <td>Farming-fishing</td>\n",
              "      <td>40</td>\n",
              "      <td>&lt;=50K</td>\n",
              "      <td>0</td>\n",
              "    </tr>\n",
              "  </tbody>\n",
              "</table>\n",
              "</div>"
            ],
            "text/plain": [
              "   age     sex    education  ...  hours-per-week income label\n",
              "0   27    Male      HS-grad  ...              40  <=50K     0\n",
              "1   47    Male      Masters  ...              50   >50K     1\n",
              "2   59    Male      HS-grad  ...              20  <=50K     0\n",
              "3   38  Female  Prof-school  ...              57   >50K     1\n",
              "4   64  Female         11th  ...              40  <=50K     0\n",
              "\n",
              "[5 rows x 10 columns]"
            ]
          },
          "metadata": {
            "tags": []
          },
          "execution_count": 17
        }
      ]
    },
    {
      "cell_type": "code",
      "metadata": {
        "colab": {
          "base_uri": "https://localhost:8080/"
        },
        "id": "VUh0AM094t7R",
        "outputId": "2325ab5d-20b3-4ed1-98a5-2728daeb5eba"
      },
      "source": [
        "#FEACTURE SPLIT\n",
        "#Separar las variables categoricas y continuas \n",
        "categorical_cols = ['sex', 'education', 'marital-status', 'workclass', 'occupation']\n",
        "continuous_cols = ['age', 'hours-per-week']\n",
        "#Target\n",
        "target = ['label']  #Esta columna contiene la var,iable a predecir \n",
        "\n",
        "# RUN THIS CODE TO COMPARE RESULTS:\n",
        "print(f'categorical_cols  tiene {len(categorical_cols)} columnas')\n",
        "print(f'continuous_cols tiene {len(continuous_cols)} columnas')\n",
        "print(f'target tiene {len(target)} columnas')"
      ],
      "execution_count": 4,
      "outputs": [
        {
          "output_type": "stream",
          "text": [
            "categorical_cols  tiene 5 columnas\n",
            "continuous_cols tiene 2 columnas\n",
            "target tiene 1 columnas\n"
          ],
          "name": "stdout"
        }
      ]
    },
    {
      "cell_type": "code",
      "metadata": {
        "colab": {
          "base_uri": "https://localhost:8080/"
        },
        "id": "BQ-sNtG54xlq",
        "outputId": "18a69b86-6d52-462f-8a13-8700ad59d956"
      },
      "source": [
        "#CATEGORICAL FEACTURE\n",
        "#Categorizar\n",
        "for categorical in categorical_cols:\n",
        "    df[categorical] = df[categorical].astype('category')\n",
        "\n",
        "#Matriz con las categorias \n",
        "sex = df['sex'].cat.codes.values\n",
        "education = df['education'].cat.codes.values\n",
        "marital_status = df['marital-status'].cat.codes.values\n",
        "workclass = df['workclass'].cat.codes.values\n",
        "occupation = df['occupation'].cat.codes.values\n",
        "array_categorical = [sex, education, marital_status, workclass, occupation]\n",
        "\n",
        "#Convertir las variables cateogricas en tensores en la GPU\n",
        "categories_tensor = np.stack(array_categorical, axis=1) #stack unimos las matrices\n",
        "categories_tensor = torch.tensor(categories_tensor, dtype=torch.int64).cuda()\n",
        "categories_tensor[:]\n",
        "\n",
        "#EMBEDDING CATEGORICAL COLUMN\n",
        "categorical_size = [len(df[col].cat.categories) for col in categorical_cols] #Total de categorias por columna en cat_cols\n",
        "embedding_size = [(size, min(50, (size+1)//2) ) for size in categorical_size]\n",
        "print(f'- categorical_size: {categorical_size} \\\n",
        "      \\n- embedding_size: {embedding_size} ')\n",
        "\n",
        "#CONTINUOUS FEACTURE\n",
        "#Convertir las variables continuas en tensores en la GPU\n",
        "continuous_tensor = np.stack([df[col].values for col in continuous_cols], axis=1) # stack unimos las matrices\n",
        "continuous_tensor = torch.tensor(continuous_tensor, dtype=torch.float).cuda()\n",
        "\n",
        "#Convertir la variable a predecir en tensor en la GPU\n",
        "target_tensor = torch.tensor(df[target].values).flatten().cuda()\n",
        "\n",
        "#Imprimir resultados\n",
        "print(f\"\\nTENSORS: \\n- categories_tensor: {categories_tensor[:]} | cpu/gpu = {categories_tensor.device} \\\n",
        "      \\n- continuous_tensor: {continuous_tensor[:]} | cpu/gpu = {continuous_tensor.device} \\\n",
        "      \\n- target_tensor: {target_tensor[:]} | cpu/gpu = {target_tensor.device}\") "
      ],
      "execution_count": 5,
      "outputs": [
        {
          "output_type": "stream",
          "text": [
            "- categorical_size: [2, 14, 6, 5, 12]       \n",
            "- embedding_size: [(2, 1), (14, 7), (6, 3), (5, 3), (12, 6)] \n",
            "\n",
            "TENSORS: \n",
            "- categories_tensor: tensor([[ 1, 10,  3,  2,  1],\n",
            "        [ 1, 11,  1,  1,  2],\n",
            "        [ 1, 10,  0,  3,  7],\n",
            "        ...,\n",
            "        [ 1, 12,  1,  2,  7],\n",
            "        [ 0, 13,  3,  2,  0],\n",
            "        [ 1,  6,  1,  3,  2]], device='cuda:0') | cpu/gpu = cuda:0       \n",
            "- continuous_tensor: tensor([[27., 40.],\n",
            "        [47., 50.],\n",
            "        [59., 20.],\n",
            "        ...,\n",
            "        [47., 55.],\n",
            "        [32., 40.],\n",
            "        [33., 60.]], device='cuda:0') | cpu/gpu = cuda:0       \n",
            "- target_tensor: tensor([0, 1, 0,  ..., 1, 0, 1], device='cuda:0') | cpu/gpu = cuda:0\n"
          ],
          "name": "stdout"
        }
      ]
    },
    {
      "cell_type": "code",
      "metadata": {
        "colab": {
          "base_uri": "https://localhost:8080/"
        },
        "id": "rDSAEX459Ld6",
        "outputId": "c7a839ac-1803-44da-9dbe-46fc365ef00e"
      },
      "source": [
        "#SPLIT DE LOS TENSORES \n",
        "batch_size = 30000\n",
        "test_size = int(batch_size * .15 )\n",
        "\n",
        "#Tensores de entranamiento \n",
        "categories_train = categories_tensor[:batch_size - test_size]\n",
        "continuous_train = continuous_tensor[:batch_size - test_size]\n",
        "target_train = target_tensor[:batch_size - test_size]\n",
        "\n",
        "#Tensores de prueba \n",
        "categories_test = categories_tensor[batch_size - test_size:batch_size]\n",
        "continuous_test = continuous_tensor[batch_size - test_size:batch_size]\n",
        "target_test = target_tensor[batch_size - test_size:batch_size]\n",
        "\n",
        "print(f'- row_train: {len(categories_train)} \\n- row_test: {len(categories_test)}')"
      ],
      "execution_count": 6,
      "outputs": [
        {
          "output_type": "stream",
          "text": [
            "- row_train: 25500 \n",
            "- row_test: 4500\n"
          ],
          "name": "stdout"
        }
      ]
    },
    {
      "cell_type": "markdown",
      "metadata": {
        "id": "VgydZ0hqgrc2"
      },
      "source": [
        "# Arquitectura de la ANN"
      ]
    },
    {
      "cell_type": "code",
      "metadata": {
        "cellView": "code",
        "id": "pRq9Sex4-omk"
      },
      "source": [
        "#@title\n",
        "#Arquitectura de la Red Neuronal \n",
        "class Model(nn.Module):\n",
        "  def __init__(self, emb_szs, n_cont, out_sz, layers, p=0.5): #constructor \n",
        "    super().__init__() #inicializa con los parametros de nn.Module\n",
        "    self.embeds = nn.ModuleList([nn.Embedding(ni, nf) for ni,nf in emb_szs])\n",
        "    self.emb_drop = nn.Dropout(p) #Porcentaje de neuronas desabilitadas para evitar Overfitting\n",
        "    self.bn_cont = nn.BatchNorm1d(n_cont) #https://pytorch.org/docs/stable/generated/torch.nn.BatchNorm1d.html \n",
        "    \n",
        "    layerlist = []\n",
        "    n_emb = sum((nf for ni,nf in emb_szs)) #n_emb = 12+1+4=17 || emb_szs = [(24, 12), (2, 1), (7, 4)]\n",
        "    n_in = n_emb + n_cont #n_cont = Columnas continuas: 6  || n_in = Numero columnas de entrada = 17+6\n",
        "    \n",
        "    #Arquitectura de la red neuronal\n",
        "    for layer in layers:  \n",
        "        layerlist.append(nn.Linear(n_in, layer))  #n_in=23 \n",
        "        layerlist.append(nn.ReLU(inplace=True))\n",
        "        layerlist.append(nn.BatchNorm1d(layer))\n",
        "        layerlist.append(nn.Dropout(p))\n",
        "        n_in = layer #n_in toma el valor del ultimo valor de la lista para conectar la capa oculta posterior \n",
        "    layerlist.append(nn.Linear(layers[-1], out_sz)) #Ultima capa oculta conectada a la Capa de salida             \n",
        "    self.layers = nn.Sequential(*layerlist) # * = argumentos || https://realpython.com/python-kwargs-and-args/ \n",
        "      \n",
        "\n",
        "  #funcion para la propagacion atras (Back propagation )\n",
        "  def forward(self, x_cat, x_cont):\n",
        "    embeddings = []\n",
        "    for i,e in enumerate(self.embeds):  #propagacion para las variables categoricas \n",
        "        embeddings.append(e(x_cat[:,i]))\n",
        "    x = torch.cat(embeddings, 1)\n",
        "    x = self.emb_drop(x)\n",
        "    \n",
        "    x_cont = self.bn_cont(x_cont) #propagacion para las variables continuas \n",
        "    x = torch.cat([x, x_cont], 1)\n",
        "    x = self.layers(x)\n",
        "    return x\n",
        "\n",
        "\n",
        "  #Funcion (metodo) para entrenar la red neuronal artificial \n",
        "  def train_model(self, x_cat, x_cont, y_train, criterion, optimizer, epochs = 100):\n",
        "    self.criterion = criterion\n",
        "    start_time = time.time()\n",
        "    epochs = epochs\n",
        "    losses = [] #resultados de la funcion de perdida \n",
        "    correct = 0\n",
        "\n",
        "    for epoch in range(epochs):\n",
        "      epoch+=1\n",
        "      y_pred = self.forward(x_cat, x_cont)  #Se llama al metodo forward que habilita el Back Propagation\n",
        "      loss =  self.criterion(y_pred, y_train) #Se calcula la funcion de perdida por cada epoca de entrenamiento\n",
        "      losses.append(loss) #Se almacenan los resultados de la funcion de perdida en el array losses\n",
        "                  \n",
        "      if epoch%25 == 1:  #Mostrar avanaces cada 25 epocas \n",
        "        print(f'epoch: {epoch:3} loss: {loss.item():10.8f}')                    \n",
        "\n",
        "      optimizer.zero_grad() #Algoritmo para el entrenamiento (stochastic gradient descent) https://en.wikipedia.org/wiki/Stochastic_gradient_descent\n",
        "      loss.backward() #Se propaga la funcion de perdida para ejuste de los pesos de la red neuronal \n",
        "      optimizer.step()\n",
        "\n",
        "    #RESULTADOS DEL MODELO       \n",
        "    for row in range(len(y_pred)):\n",
        "      if y_pred[row].argmax().item() == y_train[row]:\n",
        "        correct += 1\n",
        "    print(f'{correct:,} de {len(y_train):,} correctas | Exactitud del modelo: {100*correct/len(y_train):.2f}% ')\n",
        "\n",
        "    #Grafica de convergencia del entrenamiento \n",
        "    plt.plot(range(epochs), losses)\n",
        "    plt.ylabel('Loss')\n",
        "    plt.xlabel('Epocas');\n",
        "    plt.grid(True)\n",
        "   \n",
        "\n",
        "    return losses, y_pred\n",
        "\n",
        "\n",
        "  #Validar modelo con datos Test\n",
        "  def test_validate(self, x_cat, x_cont, y_test, row_valid=0):\n",
        "    correct = 0\n",
        "    with torch.no_grad():\n",
        "      y_pred = self.forward(x_cat, x_cont)\n",
        "      loss = self.criterion(y_pred, y_test) \n",
        "    print(f'Loss: {loss:.8f}')\n",
        "    \n",
        "    for row in range(len(y_test) ):\n",
        "      if y_pred[row].argmax().item() == y_test[row]:\n",
        "        correct += 1\n",
        "    print(f'{correct:,} de {len(y_test):,} correctas (Datos Tests) | Exactitud del modelo: {100*correct/len(y_test):.2f}% \\n')\n",
        "\n",
        "    if (row_valid) > 0:\n",
        "      print(f'\\n{\"MODEL OUTPUT\":50} REAL  Y_TEST')\n",
        "      for i in range(row_valid):\n",
        "        print(f'{str(y_pred[i]):50} {y_pred[i].argmax():^7}{y_test[i]:^7}')"
      ],
      "execution_count": 7,
      "outputs": []
    },
    {
      "cell_type": "code",
      "metadata": {
        "id": "INHg1oFF-qop",
        "colab": {
          "base_uri": "https://localhost:8080/"
        },
        "outputId": "3cfc259c-f6fb-4fb9-95b0-4c4e4cdead2f"
      },
      "source": [
        "#Instanciar modelo\n",
        "#torch.manual_seed(33) #Opcional .. creamos una semilla para el proceso de entrenamiento de la red neuronal \n",
        "gpu_model = Model(embedding_size, continuous_tensor.shape[1], 2, [300,200], p=0.3).cuda()\n",
        "#[500,400, 300] 3 capas ocultas con 500,400 y 200 neuronas respectivamente, se puede agregar o quitar mar extender el tamaño de la ANN \n",
        "\n",
        "#Definimos la funcion de perdida y el optimizador (stochastic gradient descent)\n",
        "criterion = nn.CrossEntropyLoss() #Funcion de perdida \n",
        "optimizer = torch.optim.Adam(gpu_model.parameters(), lr=0.01) #Stochastic gradient descent (https://en.wikipedia.org/wiki/Stochastic_gradient_descent)\n",
        "print(f'- Model Arquitecture: {gpu_model} \\n- Model is GPU(cuda): {next(gpu_model.parameters()).is_cuda}') #imprime arquitectura \n"
      ],
      "execution_count": 8,
      "outputs": [
        {
          "output_type": "stream",
          "text": [
            "- Model Arquitecture: Model(\n",
            "  (embeds): ModuleList(\n",
            "    (0): Embedding(2, 1)\n",
            "    (1): Embedding(14, 7)\n",
            "    (2): Embedding(6, 3)\n",
            "    (3): Embedding(5, 3)\n",
            "    (4): Embedding(12, 6)\n",
            "  )\n",
            "  (emb_drop): Dropout(p=0.3, inplace=False)\n",
            "  (bn_cont): BatchNorm1d(2, eps=1e-05, momentum=0.1, affine=True, track_running_stats=True)\n",
            "  (layers): Sequential(\n",
            "    (0): Linear(in_features=22, out_features=300, bias=True)\n",
            "    (1): ReLU(inplace=True)\n",
            "    (2): BatchNorm1d(300, eps=1e-05, momentum=0.1, affine=True, track_running_stats=True)\n",
            "    (3): Dropout(p=0.3, inplace=False)\n",
            "    (4): Linear(in_features=300, out_features=200, bias=True)\n",
            "    (5): ReLU(inplace=True)\n",
            "    (6): BatchNorm1d(200, eps=1e-05, momentum=0.1, affine=True, track_running_stats=True)\n",
            "    (7): Dropout(p=0.3, inplace=False)\n",
            "    (8): Linear(in_features=200, out_features=2, bias=True)\n",
            "  )\n",
            ") \n",
            "- Model is GPU(cuda): True\n"
          ],
          "name": "stdout"
        }
      ]
    },
    {
      "cell_type": "code",
      "metadata": {
        "colab": {
          "base_uri": "https://localhost:8080/",
          "height": 505
        },
        "id": "4bk4gNiH-06r",
        "outputId": "12d33e05-e8c9-4123-b437-4d9287b00296"
      },
      "source": [
        "#Entrenar modelo \n",
        "epochs = 300\n",
        "model_parameters = [categories_train, continuous_train, target_train, criterion, optimizer, epochs] #parametros para el entrenamiento\n",
        "loss, y_pred =gpu_model.train_model(*model_parameters) #Inicia proceso de entramiento (* se usa para locar los datos del array como parametros)"
      ],
      "execution_count": 9,
      "outputs": [
        {
          "output_type": "stream",
          "text": [
            "epoch:   1 loss: 0.81686610\n",
            "epoch:  26 loss: 0.33084261\n",
            "epoch:  51 loss: 0.29369575\n",
            "epoch:  76 loss: 0.27687955\n",
            "epoch: 101 loss: 0.26767865\n",
            "epoch: 126 loss: 0.26047516\n",
            "epoch: 151 loss: 0.25818032\n",
            "epoch: 176 loss: 0.25433031\n",
            "epoch: 201 loss: 0.25124788\n",
            "epoch: 226 loss: 0.25066671\n",
            "epoch: 251 loss: 0.24878064\n",
            "epoch: 276 loss: 0.24542513\n",
            "22,596 de 25,500 correctas | Exactitud del modelo: 88.61% \n"
          ],
          "name": "stdout"
        },
        {
          "output_type": "display_data",
          "data": {
            "image/png": "[encoded data removed]",
            "text/plain": [
              "<Figure size 432x288 with 1 Axes>"
            ]
          },
          "metadata": {
            "tags": [],
            "needs_background": "light"
          }
        }
      ]
    },
    {
      "cell_type": "code",
      "metadata": {
        "colab": {
          "base_uri": "https://localhost:8080/"
        },
        "id": "CittilmE-3hC",
        "outputId": "33d167d1-aea2-4717-d56f-64704fc50bbf"
      },
      "source": [
        "gpu_model.test_validate(categories_test, continuous_test, target_test, 50)"
      ],
      "execution_count": 11,
      "outputs": [
        {
          "output_type": "stream",
          "text": [
            "Loss: 0.26528755\n",
            "3,968 de 4,500 correctas (Datos Tests) | Exactitud del modelo: 88.18% \n",
            "\n",
            "\n",
            "MODEL OUTPUT                                       REAL  Y_TEST\n",
            "tensor([-1.3826,  0.3842], device='cuda:0')           1      1   \n",
            "tensor([-0.7632,  0.1268], device='cuda:0')           1      1   \n",
            "tensor([-0.2488,  0.6012], device='cuda:0')           1      1   \n",
            "tensor([ 5.5183, -3.9018], device='cuda:0')           0      0   \n",
            "tensor([ 3.2680, -2.9100], device='cuda:0')           0      0   \n",
            "tensor([-0.7568,  0.0526], device='cuda:0')           1      1   \n",
            "tensor([-1.9432,  0.7349], device='cuda:0')           1      1   \n",
            "tensor([ 4.6821, -4.2677], device='cuda:0')           0      0   \n",
            "tensor([ 6.5913, -6.1797], device='cuda:0')           0      0   \n",
            "tensor([ 5.1006, -3.8621], device='cuda:0')           0      0   \n",
            "tensor([ 4.0929, -3.5617], device='cuda:0')           0      0   \n",
            "tensor([-1.0501, -0.1230], device='cuda:0')           1      1   \n",
            "tensor([ 2.0986, -1.5123], device='cuda:0')           0      0   \n",
            "tensor([ 4.0320, -2.9898], device='cuda:0')           0      0   \n",
            "tensor([-0.2639,  0.1664], device='cuda:0')           1      0   \n",
            "tensor([-1.1336,  0.0670], device='cuda:0')           1      1   \n",
            "tensor([ 5.1772, -4.0573], device='cuda:0')           0      0   \n",
            "tensor([ 1.3722, -1.5043], device='cuda:0')           0      0   \n",
            "tensor([ 3.5534, -2.3928], device='cuda:0')           0      0   \n",
            "tensor([ 5.0742, -3.1316], device='cuda:0')           0      0   \n",
            "tensor([ 3.3099, -1.9401], device='cuda:0')           0      0   \n",
            "tensor([ 5.5065, -3.9424], device='cuda:0')           0      0   \n",
            "tensor([-1.0241,  0.4757], device='cuda:0')           1      1   \n",
            "tensor([-0.6435,  0.4957], device='cuda:0')           1      1   \n",
            "tensor([-0.5204, -0.0203], device='cuda:0')           1      1   \n",
            "tensor([0.0710, 0.9362], device='cuda:0')             1      1   \n",
            "tensor([0.5821, 0.2711], device='cuda:0')             0      1   \n",
            "tensor([-1.3248, -0.2883], device='cuda:0')           1      1   \n",
            "tensor([-2.5106,  0.1292], device='cuda:0')           1      1   \n",
            "tensor([-1.2513,  0.6057], device='cuda:0')           1      1   \n",
            "tensor([ 4.0843, -2.7989], device='cuda:0')           0      0   \n",
            "tensor([ 3.7510, -3.9015], device='cuda:0')           0      0   \n",
            "tensor([-0.0835, -0.9981], device='cuda:0')           0      0   \n",
            "tensor([ 0.5882, -0.7119], device='cuda:0')           0      0   \n",
            "tensor([-0.5463,  0.2443], device='cuda:0')           1      1   \n",
            "tensor([-1.6140,  0.3893], device='cuda:0')           1      1   \n",
            "tensor([ 1.6968, -1.3330], device='cuda:0')           0      0   \n",
            "tensor([ 1.4686, -1.1803], device='cuda:0')           0      0   \n",
            "tensor([ 2.1100, -2.1418], device='cuda:0')           0      0   \n",
            "tensor([-2.1023,  0.0124], device='cuda:0')           1      1   \n",
            "tensor([ 5.2468, -4.2401], device='cuda:0')           0      0   \n",
            "tensor([-2.4834,  0.2770], device='cuda:0')           1      0   \n",
            "tensor([ 3.2449, -3.2976], device='cuda:0')           0      0   \n",
            "tensor([ 4.6363, -3.7269], device='cuda:0')           0      0   \n",
            "tensor([ 2.1776, -2.1949], device='cuda:0')           0      0   \n",
            "tensor([ 7.6368, -6.0812], device='cuda:0')           0      0   \n",
            "tensor([ 4.9778, -5.2435], device='cuda:0')           0      0   \n",
            "tensor([ 0.8061, -0.9071], device='cuda:0')           0      1   \n",
            "tensor([ 4.4790, -3.8908], device='cuda:0')           0      0   \n",
            "tensor([-0.1128,  0.0771], device='cuda:0')           1      1   \n"
          ],
          "name": "stdout"
        }
      ]
    },
    {
      "cell_type": "markdown",
      "metadata": {
        "id": "QcNOHaCwjGW1"
      },
      "source": [
        "# Probar modelo"
      ]
    },
    {
      "cell_type": "code",
      "metadata": {
        "colab": {
          "base_uri": "https://localhost:8080/",
          "height": 206
        },
        "id": "g_O-Y8BS6TUj",
        "outputId": "a3a341f3-db27-4a63-cc69-9e56e6272b97"
      },
      "source": [
        "df.tail()"
      ],
      "execution_count": 12,
      "outputs": [
        {
          "output_type": "execute_result",
          "data": {
            "text/html": [
              "<div>\n",
              "<style scoped>\n",
              "    .dataframe tbody tr th:only-of-type {\n",
              "        vertical-align: middle;\n",
              "    }\n",
              "\n",
              "    .dataframe tbody tr th {\n",
              "        vertical-align: top;\n",
              "    }\n",
              "\n",
              "    .dataframe thead th {\n",
              "        text-align: right;\n",
              "    }\n",
              "</style>\n",
              "<table border=\"1\" class=\"dataframe\">\n",
              "  <thead>\n",
              "    <tr style=\"text-align: right;\">\n",
              "      <th></th>\n",
              "      <th>age</th>\n",
              "      <th>sex</th>\n",
              "      <th>education</th>\n",
              "      <th>education-num</th>\n",
              "      <th>marital-status</th>\n",
              "      <th>workclass</th>\n",
              "      <th>occupation</th>\n",
              "      <th>hours-per-week</th>\n",
              "      <th>income</th>\n",
              "      <th>label</th>\n",
              "    </tr>\n",
              "  </thead>\n",
              "  <tbody>\n",
              "    <tr>\n",
              "      <th>29995</th>\n",
              "      <td>45</td>\n",
              "      <td>Male</td>\n",
              "      <td>Masters</td>\n",
              "      <td>14</td>\n",
              "      <td>Married</td>\n",
              "      <td>State-gov</td>\n",
              "      <td>Prof-specialty</td>\n",
              "      <td>60</td>\n",
              "      <td>&gt;50K</td>\n",
              "      <td>1</td>\n",
              "    </tr>\n",
              "    <tr>\n",
              "      <th>29996</th>\n",
              "      <td>33</td>\n",
              "      <td>Male</td>\n",
              "      <td>HS-grad</td>\n",
              "      <td>9</td>\n",
              "      <td>Married</td>\n",
              "      <td>Private</td>\n",
              "      <td>Machine-op-inspct</td>\n",
              "      <td>40</td>\n",
              "      <td>&gt;50K</td>\n",
              "      <td>1</td>\n",
              "    </tr>\n",
              "    <tr>\n",
              "      <th>29997</th>\n",
              "      <td>47</td>\n",
              "      <td>Male</td>\n",
              "      <td>Prof-school</td>\n",
              "      <td>15</td>\n",
              "      <td>Married</td>\n",
              "      <td>Private</td>\n",
              "      <td>Prof-specialty</td>\n",
              "      <td>55</td>\n",
              "      <td>&gt;50K</td>\n",
              "      <td>1</td>\n",
              "    </tr>\n",
              "    <tr>\n",
              "      <th>29998</th>\n",
              "      <td>32</td>\n",
              "      <td>Female</td>\n",
              "      <td>Some-college</td>\n",
              "      <td>10</td>\n",
              "      <td>Never-married</td>\n",
              "      <td>Private</td>\n",
              "      <td>Adm-clerical</td>\n",
              "      <td>40</td>\n",
              "      <td>&lt;=50K</td>\n",
              "      <td>0</td>\n",
              "    </tr>\n",
              "    <tr>\n",
              "      <th>29999</th>\n",
              "      <td>33</td>\n",
              "      <td>Male</td>\n",
              "      <td>Assoc-acdm</td>\n",
              "      <td>12</td>\n",
              "      <td>Married</td>\n",
              "      <td>Self-emp</td>\n",
              "      <td>Exec-managerial</td>\n",
              "      <td>60</td>\n",
              "      <td>&gt;50K</td>\n",
              "      <td>1</td>\n",
              "    </tr>\n",
              "  </tbody>\n",
              "</table>\n",
              "</div>"
            ],
            "text/plain": [
              "       age     sex     education  ...  hours-per-week income label\n",
              "29995   45    Male       Masters  ...              60   >50K     1\n",
              "29996   33    Male       HS-grad  ...              40   >50K     1\n",
              "29997   47    Male   Prof-school  ...              55   >50K     1\n",
              "29998   32  Female  Some-college  ...              40  <=50K     0\n",
              "29999   33    Male    Assoc-acdm  ...              60   >50K     1\n",
              "\n",
              "[5 rows x 10 columns]"
            ]
          },
          "metadata": {
            "tags": []
          },
          "execution_count": 12
        }
      ]
    },
    {
      "cell_type": "code",
      "metadata": {
        "colab": {
          "base_uri": "https://localhost:8080/"
        },
        "id": "gJMiNBa-lrxD",
        "cellView": "form",
        "outputId": "c395ec9a-2bfa-41ff-fcab-824f148d686d"
      },
      "source": [
        "#Probar modelo\n",
        "edad = 45 #@param {type:\"slider\", min:18, max:100, step:1}\n",
        "nivel_educacion = \"Masters\" #@param ['10th', '11th', '12th', '5th-6th', '7th-8th', '9th', 'Assoc-acdm','Assoc-voc', 'Bachelors', 'Doctorate', 'HS-grad', 'Masters','Prof-school', 'Some-college']\n",
        "sexo = \"Male\" #@param [\"Female\", \"Male\"] \n",
        "estado_civil = \"Married\" #@param ['Divorced', 'Married', 'Married-spouse-absent', 'Never-married','Separated', 'Widowed'] \n",
        "tipo_trabajo = \"State-gov\" #@param ['Federal-gov', 'Local-gov', 'Private', 'Self-emp', 'State-gov'] \n",
        "ocupacion = \"Prof-specialty\" #@param ['Adm-clerical', 'Craft-repair', 'Exec-managerial', 'Farming-fishing','Handlers-cleaners', 'Machine-op-inspct', 'Other-service','Prof-specialty', 'Protective-serv', 'Sales', 'Tech-support','Transport-moving'] \n",
        "hours_per_week = 60 #@param {type:\"number\"}\n",
        "\n",
        "#Etiquetas\n",
        "sex_d = {'Female':0, 'Male':1}\n",
        "mar_d = {'Divorced':0, 'Married':1, 'Married-spouse-absent':2, 'Never-married':3, 'Separated':4, 'Widowed':5}\n",
        "wrk_d = {'Federal-gov':0, 'Local-gov':1, 'Private':2, 'Self-emp':3, 'State-gov':4}\n",
        "occ_d = {'Adm-clerical':0, 'Craft-repair':1, 'Exec-managerial':2, 'Farming-fishing':3, 'Handlers-cleaners':4,\n",
        "        'Machine-op-inspct':5, 'Other-service':6, 'Prof-specialty':7, 'Protective-serv':8, 'Sales':9, \n",
        "        'Tech-support':10, 'Transport-moving':11}\n",
        "edu_d = {'10th':0, '11th':1, '12th':2, '5th-6th':3, '7th-8th':4, '9th':5, 'Assoc-acdm':6,'Assoc-voc':7, 'Bachelors':8, 'Doctorate':9, 'HS-grad':10,\n",
        "        'Masters':11,'Prof-school':12, 'Some-college':13} \n",
        "\n",
        "sexo = sex_d[sexo]\n",
        "estado_civil = mar_d[estado_civil]\n",
        "tipo_trabajo = wrk_d[tipo_trabajo]\n",
        "ocupacion = occ_d[ocupacion]\n",
        "nivel_educacion = edu_d[nivel_educacion]\n",
        "\n",
        "cat_array = [sexo, nivel_educacion, estado_civil, tipo_trabajo, ocupacion]\n",
        "\n",
        "# CREATE CAT AND CONT TENSORS\n",
        "cats = torch.tensor(cat_array, dtype=torch.int64).reshape(1,-1).cuda()\n",
        "conts = torch.tensor([edad, hours_per_week], dtype=torch.float).reshape(1,-1).cuda()\n",
        "\n",
        "# SET MODEL TO EVAL (in case this hasn't been done)\n",
        "gpu_model.eval()\n",
        "\n",
        "# PASS NEW DATA THROUGH THE MODEL WITHOUT PERFORMING A BACKPROP\n",
        "with torch.no_grad():\n",
        "    z = gpu_model(cats, conts).argmax().item()\n",
        "\n",
        "if z == 1:\n",
        "  print(f'\\nPREDICCION: Su salario es >50K')\n",
        "else:\n",
        "  print(f'\\nPREDICCION: Su salario es <=50K')\n",
        "\n"
      ],
      "execution_count": 14,
      "outputs": [
        {
          "output_type": "stream",
          "text": [
            "\n",
            "PREDICCION: Su salario es >50K\n"
          ],
          "name": "stdout"
        }
      ]
    }
  ]
}
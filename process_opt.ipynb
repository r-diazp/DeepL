{
  "nbformat": 4,
  "nbformat_minor": 0,
  "metadata": {
    "colab": {
      "provenance": [],
      "authorship_tag": "ABX9TyM7+qJuwEXebDH1O9MUOxZk",
      "include_colab_link": true
    },
    "kernelspec": {
      "name": "python3",
      "display_name": "Python 3"
    },
    "language_info": {
      "name": "python"
    }
  },
  "cells": [
    {
      "cell_type": "markdown",
      "metadata": {
        "id": "view-in-github",
        "colab_type": "text"
      },
      "source": [
        "<a href=\"https://colab.research.google.com/github/r-diazp/DeepL/blob/master/process_opt.ipynb\" target=\"_parent\"><img src=\"https://colab.research.google.com/assets/colab-badge.svg\" alt=\"Open In Colab\"/></a>"
      ]
    },
    {
      "cell_type": "code",
      "execution_count": 1,
      "metadata": {
        "id": "cBd8jEQa-TX_"
      },
      "outputs": [],
      "source": [
        "import numpy as np"
      ]
    },
    {
      "cell_type": "markdown",
      "source": [
        "DEFINING THE ENVIRONMENT"
      ],
      "metadata": {
        "id": "DT3amUcP-roV"
      }
    },
    {
      "cell_type": "code",
      "source": [
        "gamma = 0.7\n",
        "alpha = 0.9\n",
        "\n",
        "# Defining the states\n",
        "location_to_state = {'A': 0,\n",
        "                     'B': 1,\n",
        "                     'C': 2,\n",
        "                     'D': 3,\n",
        "                     'E': 4,\n",
        "                     'F': 5,\n",
        "                     'G': 6,\n",
        "                     'H': 7,\n",
        "                     'I': 8,\n",
        "                     'J': 9,\n",
        "                     'K': 10,\n",
        "                     'L': 11}\n",
        "\n",
        "# Defining the actions\n",
        "actions = [0,1,2,3,4,5,6,7,8,9,10,11]\n",
        "\n",
        "# Defining the rewards\n",
        "R = np.array([[0,1,0,0,0,0,0,0,0,0,0,0],\n",
        "              [1,0,1,0,0,1,0,0,0,0,0,0],\n",
        "              [0,1,0,0,0,0,1,0,0,0,0,0],\n",
        "              [0,0,0,0,0,0,0,1,0,0,0,0],\n",
        "              [0,0,0,0,0,0,0,0,1,0,0,0],\n",
        "              [0,1,0,0,0,0,0,0,0,1,0,0],\n",
        "              [0,0,1,0,0,0,1,1,0,0,0,0],\n",
        "              [0,0,0,1,0,0,1,0,0,0,0,1],\n",
        "              [0,0,0,0,1,0,0,0,0,1,0,0],\n",
        "              [0,0,0,0,0,1,0,0,1,0,1,0],\n",
        "              [0,0,0,0,0,0,0,0,0,1,0,1],\n",
        "              [0,0,0,0,0,0,0,1,0,0,1,0]])\n",
        "\n"
      ],
      "metadata": {
        "id": "Di3GuPev-ovn"
      },
      "execution_count": 5,
      "outputs": []
    },
    {
      "cell_type": "markdown",
      "source": [
        "Making a function that returns the shortest route from a starting to ending location"
      ],
      "metadata": {
        "id": "AYBs7eDl-wwI"
      }
    },
    {
      "cell_type": "code",
      "source": [
        "state_to_location = {state: location for location, state in location_to_state.items()} #Change order in location_to_state, first state and after location \n",
        "\n",
        "def best_route(starting_location, ending_location, reward=1000):\n",
        "    # Defining the rewards\n",
        "    R_new = np.copy(R)\n",
        "    ending_state = location_to_state[ending_location]\n",
        "    R_new[ending_state, ending_state] = reward\n",
        "    \n",
        "    #For all couples of states s and actions a, the Q-Values are initialized to 0:\n",
        "    Q = np.array(np.zeros([12,12]))\n",
        "    print('REWARDS:\\n', R_new.astype(int))    \n",
        "    \n",
        "    \n",
        "    #BUILDING THE AI SOLUTION WITH Q-LEARNING\n",
        "    for i in range(1000):\n",
        "        current_state = np.random.randint(0,12)\n",
        "        playable_actions = []\n",
        "        \n",
        "        for column in range(12):\n",
        "            if R_new[current_state, column] > 0:\n",
        "                playable_actions.append(column)\n",
        "        next_state = np.random.choice(playable_actions)\n",
        "        \n",
        "        #We compute the Temporal Difference\n",
        "        TD = R_new[current_state, next_state] + gamma * Q[next_state, np.argmax(Q[next_state,])] - Q[current_state, next_state]\n",
        "        \n",
        "        #We update the Q-value by applying the Bellman equation:\n",
        "        Q[current_state, next_state] +=  alpha * TD\n",
        "    print('\\nREWARDS VALUES (Q):\\n', Q.astype(int))\n",
        "    \n",
        "    \n",
        "    #ROUTE MAPPING\n",
        "    route = [starting_location]\n",
        "    next_location = starting_location\n",
        "    while (next_location != ending_location):\n",
        "        starting_state = location_to_state[starting_location]\n",
        "        next_state = np.argmax(Q[starting_state,])\n",
        "        next_location = state_to_location[next_state]\n",
        "        route.append(next_location)\n",
        "        starting_location = next_location    \n",
        "    return print('\\nThe best route is:', route)\n",
        "    "
      ],
      "metadata": {
        "id": "EkGSEGwo-0FB"
      },
      "execution_count": 3,
      "outputs": []
    },
    {
      "cell_type": "code",
      "source": [
        "best_route('A', 'D')"
      ],
      "metadata": {
        "colab": {
          "base_uri": "https://localhost:8080/"
        },
        "id": "337nBWNC-3pb",
        "outputId": "aff774a4-7d38-4f55-fb4b-be9d0c81c603"
      },
      "execution_count": 6,
      "outputs": [
        {
          "output_type": "stream",
          "name": "stdout",
          "text": [
            "REWARDS:\n",
            " [[   0    1    0    0    0    0    0    0    0    0    0    0]\n",
            " [   1    0    1    0    0    1    0    0    0    0    0    0]\n",
            " [   0    1    0    0    0    0    1    0    0    0    0    0]\n",
            " [   0    0    0 1000    0    0    0    1    0    0    0    0]\n",
            " [   0    0    0    0    0    0    0    0    1    0    0    0]\n",
            " [   0    1    0    0    0    0    0    0    0    1    0    0]\n",
            " [   0    0    1    0    0    0    1    1    0    0    0    0]\n",
            " [   0    0    0    1    0    0    1    0    0    0    0    1]\n",
            " [   0    0    0    0    1    0    0    0    0    1    0    0]\n",
            " [   0    0    0    0    0    1    0    0    1    0    1    0]\n",
            " [   0    0    0    0    0    0    0    0    0    1    0    1]\n",
            " [   0    0    0    0    0    0    0    1    0    0    1    0]]\n",
            "\n",
            "REWARDS VALUES (Q):\n",
            " [[   0  562    0    0    0    0    0    0    0    0    0    0]\n",
            " [ 395    0  802    0    0  395    0    0    0    0    0    0]\n",
            " [   0  562    0    0    0    0 1145    0    0    0    0    0]\n",
            " [   0    0    0 3333    0    0    0 1634    0    0    0    0]\n",
            " [   0    0    0    0    0    0    0    0  395    0    0    0]\n",
            " [   0  562    0    0    0    0    0    0    0  562    0    0]\n",
            " [   0    0  802    0    0    0 1145 1634    0    0    0    0]\n",
            " [   0    0    0 2334    0    0 1145    0    0    0    0 1145]\n",
            " [   0    0    0    0  277    0    0    0    0  562    0    0]\n",
            " [   0    0    0    0    0  395    0    0  395    0  802    0]\n",
            " [   0    0    0    0    0    0    0    0    0  562    0 1145]\n",
            " [   0    0    0    0    0    0    0 1634    0    0  802    0]]\n",
            "\n",
            "The best route is: ['A', 'B', 'C', 'G', 'H', 'D']\n"
          ]
        }
      ]
    },
    {
      "cell_type": "code",
      "source": [],
      "metadata": {
        "id": "mXi7q86b_FC-"
      },
      "execution_count": null,
      "outputs": []
    }
  ]
}
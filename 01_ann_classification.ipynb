{
  "nbformat": 4,
  "nbformat_minor": 0,
  "metadata": {
    "colab": {
      "name": "01-ann-classification.ipynb",
      "provenance": [],
      "collapsed_sections": [],
      "authorship_tag": "ABX9TyPksuVn5+VZWnqSa48306cN",
      "include_colab_link": true
    },
    "kernelspec": {
      "name": "python3",
      "display_name": "Python 3"
    },
    "language_info": {
      "name": "python"
    },
    "accelerator": "GPU"
  },
  "cells": [
    {
      "cell_type": "markdown",
      "metadata": {
        "id": "view-in-github",
        "colab_type": "text"
      },
      "source": [
        "<a href=\"https://colab.research.google.com/github/r-diazp/deepL/blob/master/01_ann_classification.ipynb\" target=\"_parent\"><img src=\"https://colab.research.google.com/assets/colab-badge.svg\" alt=\"Open In Colab\"/></a>"
      ]
    },
    {
      "cell_type": "markdown",
      "metadata": {
        "id": "d_IfFCwVWOTO"
      },
      "source": [
        "#![pytorch icon.png](https://encrypted-tbn0.gstatic.com/images?q=tbn:ANd9GcQWyV5brHNCcNRsfWARFMR78N0Wg5V2hksMVYQeOpYnBn4zKOX2PPWky9wqxVoXuvnUi_s&usqp=CAU)\n"
      ]
    },
    {
      "cell_type": "markdown",
      "metadata": {
        "id": "kVIBW6cbYERR"
      },
      "source": [
        "#Libreries"
      ]
    },
    {
      "cell_type": "code",
      "metadata": {
        "id": "RXroWUM8oZFY",
        "colab": {
          "base_uri": "https://localhost:8080/"
        },
        "outputId": "3f3d4448-5318-4a8b-d491-9ba323e712a8"
      },
      "source": [
        "import torch\n",
        "import torch.nn as nn\n",
        "\n",
        "import numpy as np\n",
        "import pandas as pd\n",
        "import matplotlib.pyplot as plt\n",
        "%matplotlib inline\n",
        "\n",
        "import time\n",
        "from google.colab import drive\n",
        "drive.mount(\"/content/drive\")"
      ],
      "execution_count": 1,
      "outputs": [
        {
          "output_type": "stream",
          "text": [
            "Mounted at /content/drive\n"
          ],
          "name": "stdout"
        }
      ]
    },
    {
      "cell_type": "markdown",
      "metadata": {
        "id": "WCV2f3TtpDgv"
      },
      "source": [
        "<a href='https://en.wikipedia.org/wiki/Haversine_formula'>haversine formula</a> calcula la distancia entre dos cordenadas de GPS<br>\n",
        "\n",
        "Ecuacion de la distancia:\n",
        "\n",
        "${\\displaystyle d=2r\\arcsin \\left({\\sqrt {\\sin ^{2}\\left({\\frac {\\varphi _{2}-\\varphi _{1}}{2}}\\right)+\\cos(\\varphi _{1})\\:\\cos(\\varphi _{2})\\:\\sin ^{2}\\left({\\frac {\\lambda _{2}-\\lambda _{1}}{2}}\\right)}}\\right)}$"
      ]
    },
    {
      "cell_type": "code",
      "metadata": {
        "id": "3he03LqbpE-P"
      },
      "source": [
        "class Utils():\n",
        "  def __init__(self, data_frame):\n",
        "    self.data_frame = data_frame    \n",
        "\n",
        "  #Metodo para calcular Haversine formula\n",
        "  def haversine_distance(self, lat_1, long_1, lat_2, long_2):\n",
        "    radius  = 6371  #promedio del radio de la tierra (https://es.wikipedia.org/wiki/Tierra)       \n",
        "    phi_1, phi_2 = np.radians(self.data_frame[lat_1]), np.radians(self.data_frame[lat_2])\n",
        "    delta_phi = np.radians(self.data_frame[lat_2] - self.data_frame[lat_1])\n",
        "    delta_lambda = np.radians(self.data_frame[long_2] - self.data_frame[long_1])\n",
        "    \n",
        "    a = np.sin(delta_phi/2)**2 + np.cos(phi_1) * np.cos(phi_2) * np.sin(delta_lambda/2)**2\n",
        "    c = 2 * np.arctan2(np.sqrt(a), np.sqrt(1-a))\n",
        "    distance = (radius * c) #Distancia en kilometros\n",
        "    return distance"
      ],
      "execution_count": 2,
      "outputs": []
    },
    {
      "cell_type": "code",
      "metadata": {
        "id": "jAJ7Fcucono5",
        "colab": {
          "base_uri": "https://localhost:8080/"
        },
        "outputId": "31c47049-bf45-4507-e110-874c12ac3953"
      },
      "source": [
        "#Revisar si la GPU esta habilitda y modelo \n",
        "print(f'- GPU available: {torch.cuda.is_available()} \\\n",
        "      \\n- GPU: {torch.cuda.get_device_name(0)}')"
      ],
      "execution_count": 3,
      "outputs": [
        {
          "output_type": "stream",
          "text": [
            "- GPU available: True       \n",
            "- GPU: Tesla T4\n"
          ],
          "name": "stdout"
        }
      ]
    },
    {
      "cell_type": "markdown",
      "metadata": {
        "id": "l9OKzPpiYXX-"
      },
      "source": [
        "#Carga y preparacion de Tensores"
      ]
    },
    {
      "cell_type": "code",
      "metadata": {
        "id": "G99Vb66ao2CN",
        "colab": {
          "base_uri": "https://localhost:8080/",
          "height": 206
        },
        "outputId": "1225c739-68e1-4004-c0e9-af4c27c2903a"
      },
      "source": [
        "#Cargar DataSet\n",
        "path = '/content/drive/MyDrive/Dataset/'\n",
        "df = pd.read_csv(path + 'ds-ann-regression.csv')\n",
        "df.head()"
      ],
      "execution_count": 4,
      "outputs": [
        {
          "output_type": "execute_result",
          "data": {
            "text/html": [
              "<div>\n",
              "<style scoped>\n",
              "    .dataframe tbody tr th:only-of-type {\n",
              "        vertical-align: middle;\n",
              "    }\n",
              "\n",
              "    .dataframe tbody tr th {\n",
              "        vertical-align: top;\n",
              "    }\n",
              "\n",
              "    .dataframe thead th {\n",
              "        text-align: right;\n",
              "    }\n",
              "</style>\n",
              "<table border=\"1\" class=\"dataframe\">\n",
              "  <thead>\n",
              "    <tr style=\"text-align: right;\">\n",
              "      <th></th>\n",
              "      <th>pickup_datetime</th>\n",
              "      <th>fare_amount</th>\n",
              "      <th>fare_class</th>\n",
              "      <th>pickup_longitude</th>\n",
              "      <th>pickup_latitude</th>\n",
              "      <th>dropoff_longitude</th>\n",
              "      <th>dropoff_latitude</th>\n",
              "      <th>passenger_count</th>\n",
              "    </tr>\n",
              "  </thead>\n",
              "  <tbody>\n",
              "    <tr>\n",
              "      <th>0</th>\n",
              "      <td>2010-04-19 08:17:56 UTC</td>\n",
              "      <td>6.5</td>\n",
              "      <td>0</td>\n",
              "      <td>-73.992365</td>\n",
              "      <td>40.730521</td>\n",
              "      <td>-73.975499</td>\n",
              "      <td>40.744746</td>\n",
              "      <td>1</td>\n",
              "    </tr>\n",
              "    <tr>\n",
              "      <th>1</th>\n",
              "      <td>2010-04-17 15:43:53 UTC</td>\n",
              "      <td>6.9</td>\n",
              "      <td>0</td>\n",
              "      <td>-73.990078</td>\n",
              "      <td>40.740558</td>\n",
              "      <td>-73.974232</td>\n",
              "      <td>40.744114</td>\n",
              "      <td>1</td>\n",
              "    </tr>\n",
              "    <tr>\n",
              "      <th>2</th>\n",
              "      <td>2010-04-17 11:23:26 UTC</td>\n",
              "      <td>10.1</td>\n",
              "      <td>1</td>\n",
              "      <td>-73.994149</td>\n",
              "      <td>40.751118</td>\n",
              "      <td>-73.960064</td>\n",
              "      <td>40.766235</td>\n",
              "      <td>2</td>\n",
              "    </tr>\n",
              "    <tr>\n",
              "      <th>3</th>\n",
              "      <td>2010-04-11 21:25:03 UTC</td>\n",
              "      <td>8.9</td>\n",
              "      <td>0</td>\n",
              "      <td>-73.990485</td>\n",
              "      <td>40.756422</td>\n",
              "      <td>-73.971205</td>\n",
              "      <td>40.748192</td>\n",
              "      <td>1</td>\n",
              "    </tr>\n",
              "    <tr>\n",
              "      <th>4</th>\n",
              "      <td>2010-04-17 02:19:01 UTC</td>\n",
              "      <td>19.7</td>\n",
              "      <td>1</td>\n",
              "      <td>-73.990976</td>\n",
              "      <td>40.734202</td>\n",
              "      <td>-73.905956</td>\n",
              "      <td>40.743115</td>\n",
              "      <td>1</td>\n",
              "    </tr>\n",
              "  </tbody>\n",
              "</table>\n",
              "</div>"
            ],
            "text/plain": [
              "           pickup_datetime  fare_amount  ...  dropoff_latitude  passenger_count\n",
              "0  2010-04-19 08:17:56 UTC          6.5  ...         40.744746                1\n",
              "1  2010-04-17 15:43:53 UTC          6.9  ...         40.744114                1\n",
              "2  2010-04-17 11:23:26 UTC         10.1  ...         40.766235                2\n",
              "3  2010-04-11 21:25:03 UTC          8.9  ...         40.748192                1\n",
              "4  2010-04-17 02:19:01 UTC         19.7  ...         40.743115                1\n",
              "\n",
              "[5 rows x 8 columns]"
            ]
          },
          "metadata": {
            "tags": []
          },
          "execution_count": 4
        }
      ]
    },
    {
      "cell_type": "code",
      "metadata": {
        "id": "KIFp3Ty7rrqG",
        "colab": {
          "base_uri": "https://localhost:8080/",
          "height": 206
        },
        "outputId": "4842b39d-7946-43a9-cc66-0dc3cedc0bf7"
      },
      "source": [
        "#Agregar columna distance al DataFrame\n",
        "utils = Utils(df) #Instancia objeto utils de la clase Utils \n",
        "parameters = ['pickup_latitude', 'pickup_longitude','dropoff_latitude', 'dropoff_longitude']\n",
        "df['distance'] = utils.haversine_distance(*parameters) #Se llama al metodo haversine_distance del objetvo utils\n",
        "df.head()"
      ],
      "execution_count": 5,
      "outputs": [
        {
          "output_type": "execute_result",
          "data": {
            "text/html": [
              "<div>\n",
              "<style scoped>\n",
              "    .dataframe tbody tr th:only-of-type {\n",
              "        vertical-align: middle;\n",
              "    }\n",
              "\n",
              "    .dataframe tbody tr th {\n",
              "        vertical-align: top;\n",
              "    }\n",
              "\n",
              "    .dataframe thead th {\n",
              "        text-align: right;\n",
              "    }\n",
              "</style>\n",
              "<table border=\"1\" class=\"dataframe\">\n",
              "  <thead>\n",
              "    <tr style=\"text-align: right;\">\n",
              "      <th></th>\n",
              "      <th>pickup_datetime</th>\n",
              "      <th>fare_amount</th>\n",
              "      <th>fare_class</th>\n",
              "      <th>pickup_longitude</th>\n",
              "      <th>pickup_latitude</th>\n",
              "      <th>dropoff_longitude</th>\n",
              "      <th>dropoff_latitude</th>\n",
              "      <th>passenger_count</th>\n",
              "      <th>distance</th>\n",
              "    </tr>\n",
              "  </thead>\n",
              "  <tbody>\n",
              "    <tr>\n",
              "      <th>0</th>\n",
              "      <td>2010-04-19 08:17:56 UTC</td>\n",
              "      <td>6.5</td>\n",
              "      <td>0</td>\n",
              "      <td>-73.992365</td>\n",
              "      <td>40.730521</td>\n",
              "      <td>-73.975499</td>\n",
              "      <td>40.744746</td>\n",
              "      <td>1</td>\n",
              "      <td>2.126312</td>\n",
              "    </tr>\n",
              "    <tr>\n",
              "      <th>1</th>\n",
              "      <td>2010-04-17 15:43:53 UTC</td>\n",
              "      <td>6.9</td>\n",
              "      <td>0</td>\n",
              "      <td>-73.990078</td>\n",
              "      <td>40.740558</td>\n",
              "      <td>-73.974232</td>\n",
              "      <td>40.744114</td>\n",
              "      <td>1</td>\n",
              "      <td>1.392307</td>\n",
              "    </tr>\n",
              "    <tr>\n",
              "      <th>2</th>\n",
              "      <td>2010-04-17 11:23:26 UTC</td>\n",
              "      <td>10.1</td>\n",
              "      <td>1</td>\n",
              "      <td>-73.994149</td>\n",
              "      <td>40.751118</td>\n",
              "      <td>-73.960064</td>\n",
              "      <td>40.766235</td>\n",
              "      <td>2</td>\n",
              "      <td>3.326763</td>\n",
              "    </tr>\n",
              "    <tr>\n",
              "      <th>3</th>\n",
              "      <td>2010-04-11 21:25:03 UTC</td>\n",
              "      <td>8.9</td>\n",
              "      <td>0</td>\n",
              "      <td>-73.990485</td>\n",
              "      <td>40.756422</td>\n",
              "      <td>-73.971205</td>\n",
              "      <td>40.748192</td>\n",
              "      <td>1</td>\n",
              "      <td>1.864129</td>\n",
              "    </tr>\n",
              "    <tr>\n",
              "      <th>4</th>\n",
              "      <td>2010-04-17 02:19:01 UTC</td>\n",
              "      <td>19.7</td>\n",
              "      <td>1</td>\n",
              "      <td>-73.990976</td>\n",
              "      <td>40.734202</td>\n",
              "      <td>-73.905956</td>\n",
              "      <td>40.743115</td>\n",
              "      <td>1</td>\n",
              "      <td>7.231321</td>\n",
              "    </tr>\n",
              "  </tbody>\n",
              "</table>\n",
              "</div>"
            ],
            "text/plain": [
              "           pickup_datetime  fare_amount  ...  passenger_count  distance\n",
              "0  2010-04-19 08:17:56 UTC          6.5  ...                1  2.126312\n",
              "1  2010-04-17 15:43:53 UTC          6.9  ...                1  1.392307\n",
              "2  2010-04-17 11:23:26 UTC         10.1  ...                2  3.326763\n",
              "3  2010-04-11 21:25:03 UTC          8.9  ...                1  1.864129\n",
              "4  2010-04-17 02:19:01 UTC         19.7  ...                1  7.231321\n",
              "\n",
              "[5 rows x 9 columns]"
            ]
          },
          "metadata": {
            "tags": []
          },
          "execution_count": 5
        }
      ]
    },
    {
      "cell_type": "code",
      "metadata": {
        "id": "vsMRMJjrwFLl",
        "colab": {
          "base_uri": "https://localhost:8080/",
          "height": 206
        },
        "outputId": "522cf3d7-574f-4d22-b830-ae28e44ead1e"
      },
      "source": [
        "#TARGET RECURRENTE \n",
        "#Ajustar fecha hora a la actual y separarlo por hora, y semana \n",
        "df['date_time'] = pd.to_datetime(df['pickup_datetime'].str[:19]) - pd.Timedelta(hours=0) #Ajustar la hora \n",
        "df['hour'] = df['date_time'].dt.hour\n",
        "df['am_pm'] = np.where(df['hour']<12,'am','pm')\n",
        "df['weekday'] = df['date_time'].dt.strftime(\"%a\")\n",
        "#df['Weekday2'] = df['date_time'].dt.dayofweek #Colocarlo con formato numerico\n",
        "\n",
        "#Feactures\n",
        "#Separar las variables categoricas y continuas \n",
        "categorical_cols = ['hour', 'am_pm', 'weekday']\n",
        "continuous_cols = ['pickup_longitude', 'pickup_latitude','dropoff_longitude', 'dropoff_latitude', \n",
        "                   'passenger_count', 'distance']\n",
        "#Target\n",
        "target = ['fare_class']  #Esta columna contiene la variable a predecir \n",
        "df[categorical_cols].head()"
      ],
      "execution_count": 9,
      "outputs": [
        {
          "output_type": "execute_result",
          "data": {
            "text/html": [
              "<div>\n",
              "<style scoped>\n",
              "    .dataframe tbody tr th:only-of-type {\n",
              "        vertical-align: middle;\n",
              "    }\n",
              "\n",
              "    .dataframe tbody tr th {\n",
              "        vertical-align: top;\n",
              "    }\n",
              "\n",
              "    .dataframe thead th {\n",
              "        text-align: right;\n",
              "    }\n",
              "</style>\n",
              "<table border=\"1\" class=\"dataframe\">\n",
              "  <thead>\n",
              "    <tr style=\"text-align: right;\">\n",
              "      <th></th>\n",
              "      <th>hour</th>\n",
              "      <th>am_pm</th>\n",
              "      <th>weekday</th>\n",
              "    </tr>\n",
              "  </thead>\n",
              "  <tbody>\n",
              "    <tr>\n",
              "      <th>0</th>\n",
              "      <td>8</td>\n",
              "      <td>am</td>\n",
              "      <td>Mon</td>\n",
              "    </tr>\n",
              "    <tr>\n",
              "      <th>1</th>\n",
              "      <td>15</td>\n",
              "      <td>pm</td>\n",
              "      <td>Sat</td>\n",
              "    </tr>\n",
              "    <tr>\n",
              "      <th>2</th>\n",
              "      <td>11</td>\n",
              "      <td>am</td>\n",
              "      <td>Sat</td>\n",
              "    </tr>\n",
              "    <tr>\n",
              "      <th>3</th>\n",
              "      <td>21</td>\n",
              "      <td>pm</td>\n",
              "      <td>Sun</td>\n",
              "    </tr>\n",
              "    <tr>\n",
              "      <th>4</th>\n",
              "      <td>2</td>\n",
              "      <td>am</td>\n",
              "      <td>Sat</td>\n",
              "    </tr>\n",
              "  </tbody>\n",
              "</table>\n",
              "</div>"
            ],
            "text/plain": [
              "   hour am_pm weekday\n",
              "0     8    am     Mon\n",
              "1    15    pm     Sat\n",
              "2    11    am     Sat\n",
              "3    21    pm     Sun\n",
              "4     2    am     Sat"
            ]
          },
          "metadata": {
            "tags": []
          },
          "execution_count": 9
        }
      ]
    },
    {
      "cell_type": "code",
      "metadata": {
        "id": "gBF6iTKe0NTL",
        "colab": {
          "base_uri": "https://localhost:8080/"
        },
        "outputId": "72e83dac-a7b6-4ce6-c132-32bedaac249e"
      },
      "source": [
        "#CATEGORIZAR \n",
        "for categorical in categorical_cols:\n",
        "    df[categorical] = df[categorical].astype('category')\n",
        "df.dtypes\n",
        "\n",
        "#Matriz con las categorias \n",
        "hour = df['hour'].cat.codes.values\n",
        "am_pm = df['am_pm'].cat.codes.values\n",
        "weekday = df['weekday'].cat.codes.values\n",
        "\n",
        "#Convertir las variables cateogricas en tensores en la GPU\n",
        "categories_tensor = np.stack([hour, am_pm, weekday], axis=1) # stack unimos las matrices\n",
        "categories_tensor = torch.tensor(categories_tensor, dtype=torch.int64).cuda() #Convert categorical variables to a tensor\n",
        "categories_tensor[:]\n",
        "\n",
        "#Convertir las variables continuas en tensores en la GPU\n",
        "continuous_tensor = np.stack([df[col].values for col in continuous_cols], axis=1) # stack unimos las matrices\n",
        "continuous_tensor = torch.tensor(continuous_tensor, dtype=torch.float).cuda()\n",
        "\n",
        "#Convertir la variable a predecir en tensor en la GPU\n",
        "target_tensor = torch.tensor(df[target].values).flatten().cuda()\n",
        "\n",
        "#Imprimir resultados\n",
        "print(f\"CATEGORIAS: \\\n",
        "      \\n- hour categories: {df['hour'].cat.categories} \\\n",
        "      \\n- am_pm categories: {df['am_pm'].cat.categories} \\\n",
        "      \\n- weekday categories: {df['weekday'].cat.categories}\" )\n",
        "\n",
        "print(f\"\\nTENSORS: \\n- categories_tensor: {categories_tensor[:]} | cpu/gpu = {categories_tensor.device} \\\n",
        "      \\n- continuous_tensor: {continuous_tensor[:]} | cpu/gpu = {continuous_tensor.device} \\\n",
        "      \\n- target_tensor: {target_tensor[:]} | cpu/gpu = {target_tensor.device}\") \n"
      ],
      "execution_count": 10,
      "outputs": [
        {
          "output_type": "stream",
          "text": [
            "CATEGORIAS:       \n",
            "- hour categories: Int64Index([ 0,  1,  2,  3,  4,  5,  6,  7,  8,  9, 10, 11, 12, 13, 14, 15, 16,\n",
            "            17, 18, 19, 20, 21, 22, 23],\n",
            "           dtype='int64')       \n",
            "- am_pm categories: Index(['am', 'pm'], dtype='object')       \n",
            "- weekday categories: Index(['Fri', 'Mon', 'Sat', 'Sun', 'Thu', 'Tue', 'Wed'], dtype='object')\n",
            "\n",
            "TENSORS: \n",
            "- categories_tensor: tensor([[ 8,  0,  1],\n",
            "        [15,  1,  2],\n",
            "        [11,  0,  2],\n",
            "        ...,\n",
            "        [18,  1,  3],\n",
            "        [ 8,  0,  5],\n",
            "        [16,  1,  2]], device='cuda:0') | cpu/gpu = cuda:0       \n",
            "- continuous_tensor: tensor([[-73.9924,  40.7305, -73.9755,  40.7447,   1.0000,   2.1263],\n",
            "        [-73.9901,  40.7406, -73.9742,  40.7441,   1.0000,   1.3923],\n",
            "        [-73.9941,  40.7511, -73.9601,  40.7662,   2.0000,   3.3268],\n",
            "        ...,\n",
            "        [-73.9886,  40.7498, -74.0115,  40.7078,   3.0000,   5.0525],\n",
            "        [-74.0044,  40.7245, -73.9927,  40.7308,   1.0000,   1.2089],\n",
            "        [-73.9554,  40.7719, -73.9676,  40.7630,   3.0000,   1.4274]],\n",
            "       device='cuda:0') | cpu/gpu = cuda:0       \n",
            "- target_tensor: tensor([0, 0, 1,  ..., 1, 0, 0], device='cuda:0') | cpu/gpu = cuda:0\n"
          ],
          "name": "stdout"
        }
      ]
    },
    {
      "cell_type": "code",
      "metadata": {
        "id": "xY_zIWrTESRU"
      },
      "source": [
        "#SPLIT DE LOS TENSORES \n",
        "batch_size = 60000\n",
        "test_size = int(batch_size * .2 )\n",
        "\n",
        "#Tensores de entranamiento \n",
        "categories_train = categories_tensor[:batch_size - test_size]\n",
        "continuous_train = continuous_tensor[:batch_size - test_size]\n",
        "target_train = target_tensor[:batch_size - test_size]\n",
        "\n",
        "#Tensores de prueba \n",
        "categories_test = categories_tensor[batch_size - test_size:batch_size]\n",
        "continuous_test = continuous_tensor[batch_size - test_size:batch_size]\n",
        "target_test = target_tensor[batch_size - test_size:batch_size]"
      ],
      "execution_count": 11,
      "outputs": []
    },
    {
      "cell_type": "code",
      "metadata": {
        "id": "_1SdHJP56SvQ",
        "colab": {
          "base_uri": "https://localhost:8080/"
        },
        "outputId": "a62eaef3-9542-404e-8950-6277402c5858"
      },
      "source": [
        "#Embebido de las variables categoricas (modelo multidimensional de entrada a la ANN)\n",
        "categorical_size = [len(df[col].cat.categories) for col in categorical_cols] #Total de categorias por columna en cat_cols\n",
        "embedding_size = [(size, min(50, (size+1)//2) ) for size in categorical_size]\n",
        "print(f'- categorical_size: {categorical_size} \\\n",
        "      \\n- embedding_size: {embedding_size} ')"
      ],
      "execution_count": 12,
      "outputs": [
        {
          "output_type": "stream",
          "text": [
            "- categorical_size: [24, 2, 7]       \n",
            "- embedding_size: [(24, 12), (2, 1), (7, 4)] \n"
          ],
          "name": "stdout"
        }
      ]
    },
    {
      "cell_type": "markdown",
      "metadata": {
        "id": "zBMZMJTCYzlG"
      },
      "source": [
        "# ANN Model"
      ]
    },
    {
      "cell_type": "code",
      "metadata": {
        "id": "hxtTgGv97NnY"
      },
      "source": [
        "#Arquitectura de la Red Neuronal \n",
        "class Model(nn.Module):\n",
        "  def __init__(self, emb_szs, n_cont, out_sz, layers, p=0.5): #constructor \n",
        "    super().__init__() #inicializa con los parametros de nn.Module\n",
        "    self.embeds = nn.ModuleList([nn.Embedding(ni, nf) for ni,nf in emb_szs])\n",
        "    self.emb_drop = nn.Dropout(p) #Porcentaje de neuronas desabilitadas para evitar Overfitting\n",
        "    self.bn_cont = nn.BatchNorm1d(n_cont) #https://pytorch.org/docs/stable/generated/torch.nn.BatchNorm1d.html \n",
        "    \n",
        "    layerlist = []\n",
        "    n_emb = sum((nf for ni,nf in emb_szs)) #n_emb = 12+1+4=17 || emb_szs = [(24, 12), (2, 1), (7, 4)]\n",
        "    n_in = n_emb + n_cont #n_cont = Columnas continuas: 6  || n_in = Numero columnas de entrada = 17+6\n",
        "    \n",
        "    #Arquitectura de la red neuronal\n",
        "    for layer in layers:  \n",
        "        layerlist.append(nn.Linear(n_in, layer))  #n_in=23 \n",
        "        layerlist.append(nn.ReLU(inplace=True))\n",
        "        layerlist.append(nn.BatchNorm1d(layer))\n",
        "        layerlist.append(nn.Dropout(p))\n",
        "        n_in = layer #n_in toma el valor del ultimo valor de la lista para conectar la capa oculta posterior \n",
        "    layerlist.append(nn.Linear(layers[-1], out_sz)) #Ultima capa oculta conectada a la Capa de salida             \n",
        "    self.layers = nn.Sequential(*layerlist) # * = argumentos || https://realpython.com/python-kwargs-and-args/ \n",
        "      \n",
        "\n",
        "  #funcion para la propagacion atras (Back propagation )\n",
        "  def forward(self, x_cat, x_cont):\n",
        "    embeddings = []\n",
        "    for i,e in enumerate(self.embeds):  #propagacion para las variables categoricas \n",
        "        embeddings.append(e(x_cat[:,i]))\n",
        "    x = torch.cat(embeddings, 1)\n",
        "    x = self.emb_drop(x)\n",
        "    \n",
        "    x_cont = self.bn_cont(x_cont) #propagacion para las variables continuas \n",
        "    x = torch.cat([x, x_cont], 1)\n",
        "    x = self.layers(x)\n",
        "    return x\n",
        "\n",
        "\n",
        "  #Funcion (metodo) para entrenar la red neuronal artificial \n",
        "  def train_model(self, x_cat, x_cont, y_train, criterion, optimizer, epochs = 100):\n",
        "    self.criterion = criterion\n",
        "    start_time = time.time()\n",
        "    epochs = epochs\n",
        "    losses = [] #resultados de la funcion de perdida \n",
        "    correct = 0\n",
        "\n",
        "    for epoch in range(epochs):\n",
        "      epoch+=1\n",
        "      y_pred = self.forward(x_cat, x_cont)  #Se llama al metodo forward que habilita el Back Propagation\n",
        "      loss =  self.criterion(y_pred, y_train) #Se calcula la funcion de perdida por cada epoca de entrenamiento\n",
        "      losses.append(loss) #Se almacenan los resultados de la funcion de perdida en el array losses\n",
        "                  \n",
        "      if epoch%25 == 1:  #Mostrar avanaces cada 25 epocas \n",
        "        print(f'epoch: {epoch:3} loss: {loss.item():10.8f}')                    \n",
        "\n",
        "      optimizer.zero_grad() #Algoritmo para el entrenamiento (stochastic gradient descent) https://en.wikipedia.org/wiki/Stochastic_gradient_descent\n",
        "      loss.backward() #Se propaga la funcion de perdida para ejuste de los pesos de la red neuronal \n",
        "      optimizer.step()\n",
        "\n",
        "    #RESULTADOS DEL MODELO       \n",
        "    for row in range(len(y_pred)):\n",
        "      if y_pred[row].argmax().item() == y_train[row]:\n",
        "        correct += 1\n",
        "    print(f'{correct:,} de {len(y_train):,} correctas | Exactitud del modelo: {100*correct/len(y_train):.2f}% ')\n",
        "\n",
        "    #Grafica de convergencia del entrenamiento\n",
        "    print(f'\\nepoch: {epoch:3}  loss: {loss.item():10.8f}') \n",
        "    print(f'Duración del entrenamiento: {time.time() - start_time:.0f} segundos') \n",
        "    plt.plot(range(epochs), losses)\n",
        "    plt.ylabel('Loss')\n",
        "    plt.xlabel('Epocas');\n",
        "\n",
        "    return losses, y_pred\n",
        "\n",
        "\n",
        "  #Validar modelo con datos Test\n",
        "  def test_validate(self, x_cat, x_cont, y_test, row_valid=0):\n",
        "    correct = 0\n",
        "    with torch.no_grad():\n",
        "      y_pred = self.forward(x_cat, x_cont)\n",
        "      loss = self.criterion(y_pred, y_test) \n",
        "    print(f'Loss: {loss:.8f}')\n",
        "    \n",
        "    for row in range(len(y_test) ):\n",
        "      if y_pred[row].argmax().item() == y_test[row]:\n",
        "        correct += 1\n",
        "    print(f'{correct:,} de {len(y_test):,} correctas (Datos Tests) | Exactitud del modelo: {100*correct/len(y_test):.2f}% \\n')\n",
        "\n",
        "    if (row_valid) > 0:\n",
        "      print(f'\\n{\"MODEL OUTPUT\":50} REAL  Y_TEST')\n",
        "      for i in range(row_valid):\n",
        "        print(f'{str(y_pred[i]):50} {y_pred[i].argmax():^7}{y_test[i]:^7}')\n"
      ],
      "execution_count": 13,
      "outputs": []
    },
    {
      "cell_type": "code",
      "metadata": {
        "id": "FnHwoAQX8MwQ",
        "colab": {
          "base_uri": "https://localhost:8080/"
        },
        "outputId": "c568957b-1d98-459d-d42d-28f439edb98a"
      },
      "source": [
        "#Instanciar modelo\n",
        "#torch.manual_seed(33) #Opcional .. creamos una semilla para el proceso de entrenamiento de la red neuronal \n",
        "gpu_model = Model(embedding_size, continuous_tensor.shape[1], 2, [500,400,300], p=0.3).cuda()\n",
        "#[500,400, 300] 3 capas ocultas con 500,400 y 200 neuronas respectivamente, se puede agregar o quitar para extender el tamaño de la ANN \n",
        "\n",
        "#Definimos la funcion de perdida y el optimizador (stochastic gradient descent)\n",
        "criterion = nn.CrossEntropyLoss() #Funcion de perdida \n",
        "optimizer = torch.optim.Adam(gpu_model.parameters(), lr=0.01) #Stochastic gradient descent (https://en.wikipedia.org/wiki/Stochastic_gradient_descent)\n",
        "print(f'- Model Arquitecture: {gpu_model} \\n- Model is GPU(cuda): {next(gpu_model.parameters()).is_cuda}') #imprime arquitectura \n"
      ],
      "execution_count": 14,
      "outputs": [
        {
          "output_type": "stream",
          "text": [
            "- Model Arquitecture: Model(\n",
            "  (embeds): ModuleList(\n",
            "    (0): Embedding(24, 12)\n",
            "    (1): Embedding(2, 1)\n",
            "    (2): Embedding(7, 4)\n",
            "  )\n",
            "  (emb_drop): Dropout(p=0.3, inplace=False)\n",
            "  (bn_cont): BatchNorm1d(6, eps=1e-05, momentum=0.1, affine=True, track_running_stats=True)\n",
            "  (layers): Sequential(\n",
            "    (0): Linear(in_features=23, out_features=500, bias=True)\n",
            "    (1): ReLU(inplace=True)\n",
            "    (2): BatchNorm1d(500, eps=1e-05, momentum=0.1, affine=True, track_running_stats=True)\n",
            "    (3): Dropout(p=0.3, inplace=False)\n",
            "    (4): Linear(in_features=500, out_features=400, bias=True)\n",
            "    (5): ReLU(inplace=True)\n",
            "    (6): BatchNorm1d(400, eps=1e-05, momentum=0.1, affine=True, track_running_stats=True)\n",
            "    (7): Dropout(p=0.3, inplace=False)\n",
            "    (8): Linear(in_features=400, out_features=300, bias=True)\n",
            "    (9): ReLU(inplace=True)\n",
            "    (10): BatchNorm1d(300, eps=1e-05, momentum=0.1, affine=True, track_running_stats=True)\n",
            "    (11): Dropout(p=0.3, inplace=False)\n",
            "    (12): Linear(in_features=300, out_features=2, bias=True)\n",
            "  )\n",
            ") \n",
            "- Model is GPU(cuda): True\n"
          ],
          "name": "stdout"
        }
      ]
    },
    {
      "cell_type": "code",
      "metadata": {
        "id": "JkcyF7HnkAXG",
        "colab": {
          "base_uri": "https://localhost:8080/",
          "height": 557
        },
        "outputId": "f2bc5f8d-f9b4-435d-98bc-34a15490338b"
      },
      "source": [
        "#Entrenar modelo \n",
        "epochs = 300\n",
        "model_parameters = [categories_train, continuous_train, target_train, criterion, optimizer, epochs] #parametros para el entrenamiento\n",
        "loss, y_pred =gpu_model.train_model(*model_parameters) #Inicia proceso de entramiento (* se usa para locar los datos del array como parametros)"
      ],
      "execution_count": 15,
      "outputs": [
        {
          "output_type": "stream",
          "text": [
            "epoch:   1 loss: 0.78656948\n",
            "epoch:  26 loss: 0.27999425\n",
            "epoch:  51 loss: 0.26982152\n",
            "epoch:  76 loss: 0.26465040\n",
            "epoch: 101 loss: 0.25617498\n",
            "epoch: 126 loss: 0.24486887\n",
            "epoch: 151 loss: 0.23490898\n",
            "epoch: 176 loss: 0.22797707\n",
            "epoch: 201 loss: 0.22545868\n",
            "epoch: 226 loss: 0.22217047\n",
            "epoch: 251 loss: 0.21915329\n",
            "epoch: 276 loss: 0.21667831\n",
            "44,241 de 48,000 correctas | Exactitud del modelo: 92.17% \n",
            "\n",
            "epoch: 300  loss: 0.21311934\n",
            "Duración del entrenamiento: 19 segundos\n"
          ],
          "name": "stdout"
        },
        {
          "output_type": "display_data",
          "data": {
            "image/png": "[encoded data removed]",
            "text/plain": [
              "<Figure size 432x288 with 1 Axes>"
            ]
          },
          "metadata": {
            "tags": [],
            "needs_background": "light"
          }
        }
      ]
    },
    {
      "cell_type": "markdown",
      "metadata": {
        "id": "wnQJRijtZP0G"
      },
      "source": [
        "#Validar modelo"
      ]
    },
    {
      "cell_type": "code",
      "metadata": {
        "colab": {
          "base_uri": "https://localhost:8080/"
        },
        "id": "dY22tm5sgRuc",
        "outputId": "1871b868-abe4-4c5b-a711-e9644ba31630"
      },
      "source": [
        "gpu_model.test_validate(categories_test, continuous_test, target_test, 75)"
      ],
      "execution_count": 17,
      "outputs": [
        {
          "output_type": "stream",
          "text": [
            "Loss: 0.23040164\n",
            "10,968 de 12,000 correctas (Datos Tests) | Exactitud del modelo: 91.40% \n",
            "\n",
            "\n",
            "MODEL OUTPUT                                       REAL  Y_TEST\n",
            "tensor([ 2.4536, -2.3877], device='cuda:0')           0      0   \n",
            "tensor([-2.0638,  1.3144], device='cuda:0')           1      0   \n",
            "tensor([ 2.6460, -1.6487], device='cuda:0')           0      0   \n",
            "tensor([-0.2387,  0.5632], device='cuda:0')           1      1   \n",
            "tensor([ 2.0429, -1.4006], device='cuda:0')           0      0   \n",
            "tensor([ 1.8934, -1.4225], device='cuda:0')           0      0   \n",
            "tensor([ 2.5475, -0.8920], device='cuda:0')           0      0   \n",
            "tensor([-2.5567,  2.0808], device='cuda:0')           1      1   \n",
            "tensor([ 1.2520, -1.3031], device='cuda:0')           0      0   \n",
            "tensor([-2.2495,  1.6015], device='cuda:0')           1      1   \n",
            "tensor([ 2.8386, -2.0997], device='cuda:0')           0      0   \n",
            "tensor([ 3.4850, -1.1393], device='cuda:0')           0      0   \n",
            "tensor([ 2.0400, -1.2070], device='cuda:0')           0      0   \n",
            "tensor([-1.5865,  1.2731], device='cuda:0')           1      1   \n",
            "tensor([ 1.8123, -1.8860], device='cuda:0')           0      0   \n",
            "tensor([-5.3670,  2.7095], device='cuda:0')           1      1   \n",
            "tensor([ 1.9453, -2.4530], device='cuda:0')           0      1   \n",
            "tensor([ 2.0304, -2.2342], device='cuda:0')           0      0   \n",
            "tensor([ 1.3119, -0.5347], device='cuda:0')           0      0   \n",
            "tensor([ 2.7448, -1.9184], device='cuda:0')           0      0   \n",
            "tensor([-3.4442,  1.5547], device='cuda:0')           1      1   \n",
            "tensor([-0.2108,  0.4352], device='cuda:0')           1      1   \n",
            "tensor([-3.2065,  1.8345], device='cuda:0')           1      1   \n",
            "tensor([-2.3032,  2.1061], device='cuda:0')           1      1   \n",
            "tensor([-2.5944,  1.0434], device='cuda:0')           1      1   \n",
            "tensor([ 2.0990, -1.8703], device='cuda:0')           0      0   \n",
            "tensor([ 2.6339, -1.8385], device='cuda:0')           0      0   \n",
            "tensor([ 1.9976, -1.3074], device='cuda:0')           0      0   \n",
            "tensor([-2.8248,  2.2344], device='cuda:0')           1      1   \n",
            "tensor([ 2.1777, -1.8611], device='cuda:0')           0      0   \n",
            "tensor([ 2.3311, -1.4126], device='cuda:0')           0      0   \n",
            "tensor([-2.8906,  1.9211], device='cuda:0')           1      1   \n",
            "tensor([-2.0844,  1.6335], device='cuda:0')           1      1   \n",
            "tensor([-1.1326,  0.9755], device='cuda:0')           1      1   \n",
            "tensor([ 2.3162, -1.2391], device='cuda:0')           0      0   \n",
            "tensor([ 1.7585, -1.0253], device='cuda:0')           0      0   \n",
            "tensor([-3.1937,  2.4860], device='cuda:0')           1      1   \n",
            "tensor([ 2.3164, -1.3055], device='cuda:0')           0      1   \n",
            "tensor([-0.3895,  0.5664], device='cuda:0')           1      1   \n",
            "tensor([ 1.8112, -0.8554], device='cuda:0')           0      0   \n",
            "tensor([ 1.8752, -1.1676], device='cuda:0')           0      0   \n",
            "tensor([ 1.9199, -0.8756], device='cuda:0')           0      0   \n",
            "tensor([-1.6391,  1.0667], device='cuda:0')           1      1   \n",
            "tensor([ 2.3601, -2.0779], device='cuda:0')           0      0   \n",
            "tensor([ 1.3498, -0.3869], device='cuda:0')           0      0   \n",
            "tensor([-0.2642,  0.6234], device='cuda:0')           1      1   \n",
            "tensor([-2.7814,  3.5707], device='cuda:0')           1      1   \n",
            "tensor([ 0.8364, -1.9171], device='cuda:0')           0      0   \n",
            "tensor([ 2.1826, -1.4587], device='cuda:0')           0      0   \n",
            "tensor([0.0897, 0.0455], device='cuda:0')             0      0   \n",
            "tensor([-2.2252,  1.4275], device='cuda:0')           1      1   \n",
            "tensor([-0.7538,  0.5879], device='cuda:0')           1      1   \n",
            "tensor([ 2.7036, -2.2154], device='cuda:0')           0      0   \n",
            "tensor([-3.8573,  2.2778], device='cuda:0')           1      1   \n",
            "tensor([ 1.6311, -0.7187], device='cuda:0')           0      0   \n",
            "tensor([ 1.4022, -1.4891], device='cuda:0')           0      0   \n",
            "tensor([-2.8212,  2.0623], device='cuda:0')           1      1   \n",
            "tensor([ 2.2712, -2.0064], device='cuda:0')           0      0   \n",
            "tensor([-2.6168,  1.8938], device='cuda:0')           1      1   \n",
            "tensor([ 3.2077, -1.3880], device='cuda:0')           0      0   \n",
            "tensor([ 2.3825, -1.4484], device='cuda:0')           0      0   \n",
            "tensor([ 1.2095, -0.4952], device='cuda:0')           0      0   \n",
            "tensor([-2.0997,  1.5577], device='cuda:0')           1      1   \n",
            "tensor([ 3.2901, -0.6006], device='cuda:0')           0      0   \n",
            "tensor([-2.0767,  1.2050], device='cuda:0')           1      1   \n",
            "tensor([-2.4896,  1.8552], device='cuda:0')           1      1   \n",
            "tensor([-3.0776,  1.8701], device='cuda:0')           1      1   \n",
            "tensor([ 1.9972, -1.3413], device='cuda:0')           0      0   \n",
            "tensor([-1.0053,  0.6692], device='cuda:0')           1      0   \n",
            "tensor([ 1.6402, -1.4879], device='cuda:0')           0      0   \n",
            "tensor([-0.0945,  0.3361], device='cuda:0')           1      0   \n",
            "tensor([ 0.9593, -0.3869], device='cuda:0')           0      0   \n",
            "tensor([-6.3443,  3.3744], device='cuda:0')           1      1   \n",
            "tensor([ 2.1849, -1.5940], device='cuda:0')           0      0   \n",
            "tensor([ 1.5507, -1.3666], device='cuda:0')           0      0   \n"
          ],
          "name": "stdout"
        }
      ]
    }
  ]
}